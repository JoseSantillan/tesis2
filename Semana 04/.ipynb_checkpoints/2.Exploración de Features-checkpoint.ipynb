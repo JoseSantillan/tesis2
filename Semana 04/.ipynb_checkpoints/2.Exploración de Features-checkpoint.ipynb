{
 "cells": [
  {
   "cell_type": "markdown",
   "metadata": {},
   "source": [
    "Se revisaron pappers para investigar los features que se suelen usar en el estado del arte.<br>\n",
    "Los pappers seleccionados fueron los siguientes:<br>\n",
    "- Prediction of plant lncRNA by ensemble machine learning classifiers\n",
    "- LncADeep- an ab initio lncRNA identification and functional annotation tool based on deep learning\n",
    "- A deep recurrent neural network discovers complex biological rules to decipher RNA protein-coding potential\n",
    "- A Support Vector Machine based method to distinguish long non-coding RNAs from protein coding transcripts"
   ]
  },
  {
   "cell_type": "markdown",
   "metadata": {},
   "source": [
    "<h1>Prediction of plant lncRNA by ensemble machine learning classifiers</h1><br>\n"
   ]
  }
 ],
 "metadata": {
  "kernelspec": {
   "display_name": "Python 3",
   "language": "python",
   "name": "python3"
  },
  "language_info": {
   "codemirror_mode": {
    "name": "ipython",
    "version": 3
   },
   "file_extension": ".py",
   "mimetype": "text/x-python",
   "name": "python",
   "nbconvert_exporter": "python",
   "pygments_lexer": "ipython3",
   "version": "3.6.7"
  }
 },
 "nbformat": 4,
 "nbformat_minor": 2
}
