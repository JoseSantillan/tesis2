{
 "cells": [
  {
   "cell_type": "code",
   "execution_count": 45,
   "metadata": {},
   "outputs": [
    {
     "name": "stdout",
     "output_type": "stream",
     "text": [
      "MAXIMOS\n"
     ]
    },
    {
     "data": {
      "text/html": [
       "<table border=\"1\" class=\"dataframe\">\n",
       "  <thead>\n",
       "    <tr style=\"text-align: right;\">\n",
       "      <th></th>\n",
       "      <th>longitud</th>\n",
       "      <th>orf_length</th>\n",
       "      <th>orf_coverage</th>\n",
       "      <th>ficket_score</th>\n",
       "      <th>hexamer_score</th>\n",
       "      <th>gc_content</th>\n",
       "      <th>alignment</th>\n",
       "      <th>alignment_length</th>\n",
       "      <th>alignment_proportion</th>\n",
       "      <th>alignment_proportion_orf</th>\n",
       "    </tr>\n",
       "  </thead>\n",
       "  <tbody>\n",
       "    <tr>\n",
       "      <th>0</th>\n",
       "      <td>64878</td>\n",
       "      <td>32925</td>\n",
       "      <td>1.0</td>\n",
       "      <td>1.3895</td>\n",
       "      <td>1.475401</td>\n",
       "      <td>93.650795</td>\n",
       "      <td>100.0</td>\n",
       "      <td>6481.0</td>\n",
       "      <td>0.674107</td>\n",
       "      <td>12.0</td>\n",
       "    </tr>\n",
       "  </tbody>\n",
       "</table>"
      ],
      "text/plain": [
       "<IPython.core.display.HTML object>"
      ]
     },
     "metadata": {},
     "output_type": "display_data"
    }
   ],
   "source": [
    "import mysql.connector\n",
    "import pandas as pd\n",
    "from IPython.display import display, HTML\n",
    "\n",
    "conn = mysql.connector.connect(\n",
    "   host=\"localhost\",\n",
    "   database=\"tesis2\",\n",
    "   user=\"tesis2\",\n",
    "   passwd=\"tesis2\"\n",
    ")\n",
    "\n",
    "print(\"MAXIMOS\")\n",
    "query = \"select max(longitud) longitud, max(orf_length) orf_length, max(orf_coverage) orf_coverage, max(ficket_score) ficket_score, max(hexamer_score) hexamer_score, max(gc_content) gc_content, max(alignment) alignment, max(alignment_length) alignment_length, max(alignment_proportion) alignment_proportion, max(alignment_proportion_orf) alignment_proportion_orf from secuencias_features WHERE flg_seleccionado = 1\"\n",
    "df = pd.read_sql_query(query, conn)\n",
    "display(HTML(df.to_html()))\n",
    "\n",
    "conn.close()"
   ]
  },
  {
   "cell_type": "code",
   "execution_count": 66,
   "metadata": {},
   "outputs": [
    {
     "name": "stdout",
     "output_type": "stream",
     "text": [
      "LONGITUD\n",
      "                 flg_pct\n",
      "longitud  count  PCT        126240.000000\n",
      "                 lncRNA     126240.000000\n",
      "          mean   PCT          3577.390669\n",
      "                 lncRNA        779.883840\n",
      "          std    PCT          4120.333444\n",
      "                 lncRNA        689.103826\n",
      "          min    PCT             3.000000\n",
      "                 lncRNA        200.000000\n",
      "          25%    PCT          1156.000000\n",
      "                 lncRNA        341.000000\n",
      "          50%    PCT          2503.000000\n",
      "                 lncRNA        580.000000\n",
      "          75%    PCT          4537.000000\n",
      "                 lncRNA        949.000000\n",
      "          max    PCT         64878.000000\n",
      "                 lncRNA      13157.000000\n",
      "dtype: float64\n"
     ]
    },
    {
     "data": {
      "image/png": "[encoded data removed]",
      "text/plain": [
       "<Figure size 720x720 with 2 Axes>"
      ]
     },
     "metadata": {
      "needs_background": "light"
     },
     "output_type": "display_data"
    }
   ],
   "source": [
    "import mysql.connector\n",
    "import pandas as pd\n",
    "import matplotlib.pyplot as plt\n",
    "\n",
    "conn = mysql.connector.connect(\n",
    "   host=\"localhost\",\n",
    "   database=\"tesis2\",\n",
    "   user=\"tesis2\",\n",
    "   passwd=\"tesis2\"\n",
    ")\n",
    "\n",
    "print(\"LONGITUD\")\n",
    "campo = \"longitud\"\n",
    "query = \"SELECT \" + campo + \", CASE WHEN flg_pct = 1 THEN 'PCT' ELSE 'lncRNA' END AS flg_pct FROM secuencias_features WHERE flg_seleccionado = 1\"\n",
    "df = pd.read_sql_query(query, conn)\n",
    "df.hist(by='flg_pct', column=campo, bins=100, sharex=True, sharey = True, layout=(2,1), figsize=(10,10))\n",
    "\n",
    "print(df.groupby('flg_pct').describe().unstack(1))\n",
    "\n",
    "conn.close()"
   ]
  },
  {
   "cell_type": "code",
   "execution_count": 47,
   "metadata": {},
   "outputs": [
    {
     "name": "stdout",
     "output_type": "stream",
     "text": [
      "LONGITUD\n",
      "                   flg_pct\n",
      "orf_length  count  PCT        126240.000000\n",
      "                   lncRNA     126240.000000\n",
      "            mean   PCT           635.837952\n",
      "                   lncRNA        201.635266\n",
      "            std    PCT           586.987926\n",
      "                   lncRNA        102.918746\n",
      "            min    PCT             0.000000\n",
      "                   lncRNA          0.000000\n",
      "            25%    PCT           291.000000\n",
      "                   lncRNA        126.000000\n",
      "            50%    PCT           441.000000\n",
      "                   lncRNA        201.000000\n",
      "            75%    PCT           768.000000\n",
      "                   lncRNA        267.000000\n",
      "            max    PCT         32925.000000\n",
      "                   lncRNA       1803.000000\n",
      "dtype: float64\n"
     ]
    },
    {
     "data": {
      "image/png": "[encoded data removed]",
      "text/plain": [
       "<Figure size 720x720 with 2 Axes>"
      ]
     },
     "metadata": {
      "needs_background": "light"
     },
     "output_type": "display_data"
    }
   ],
   "source": [
    "import mysql.connector\n",
    "import pandas as pd\n",
    "import matplotlib.pyplot as plt\n",
    "\n",
    "conn = mysql.connector.connect(\n",
    "   host=\"localhost\",\n",
    "   database=\"tesis2\",\n",
    "   user=\"tesis2\",\n",
    "   passwd=\"tesis2\"\n",
    ")\n",
    "\n",
    "print(\"LONGITUD\")\n",
    "campo = \"orf_length\"\n",
    "query = \"SELECT \" + campo + \", CASE WHEN flg_pct = 1 THEN 'PCT' ELSE 'lncRNA' END AS flg_pct FROM secuencias_features WHERE flg_seleccionado = 1\"\n",
    "df = pd.read_sql_query(query, conn)\n",
    "df.hist(by='flg_pct', column=campo, bins=100, sharex=True, sharey = True, layout=(2,1), figsize=(10,10))\n",
    "\n",
    "print(df.groupby('flg_pct').describe().unstack(1))\n",
    "\n",
    "conn.close()"
   ]
  },
  {
   "cell_type": "code",
   "execution_count": 48,
   "metadata": {},
   "outputs": [
    {
     "name": "stdout",
     "output_type": "stream",
     "text": [
      "LONGITUD\n",
      "                     flg_pct\n",
      "orf_coverage  count  PCT        126240.000000\n",
      "                     lncRNA     126240.000000\n",
      "              mean   PCT             0.339802\n",
      "                     lncRNA          0.383810\n",
      "              std    PCT             0.312975\n",
      "                     lncRNA          0.296060\n",
      "              min    PCT             0.000000\n",
      "                     lncRNA          0.000000\n",
      "              25%    PCT             0.100579\n",
      "                     lncRNA          0.164444\n",
      "              50%    PCT             0.209003\n",
      "                     lncRNA          0.278873\n",
      "              75%    PCT             0.485411\n",
      "                     lncRNA          0.496241\n",
      "              max    PCT             1.000000\n",
      "                     lncRNA          1.000000\n",
      "dtype: float64\n"
     ]
    },
    {
     "data": {
      "image/png": "[encoded data removed]",
      "text/plain": [
       "<Figure size 720x720 with 2 Axes>"
      ]
     },
     "metadata": {
      "needs_background": "light"
     },
     "output_type": "display_data"
    }
   ],
   "source": [
    "import mysql.connector\n",
    "import pandas as pd\n",
    "import matplotlib.pyplot as plt\n",
    "\n",
    "conn = mysql.connector.connect(\n",
    "   host=\"localhost\",\n",
    "   database=\"tesis2\",\n",
    "   user=\"tesis2\",\n",
    "   passwd=\"tesis2\"\n",
    ")\n",
    "\n",
    "print(\"LONGITUD\")\n",
    "campo = \"orf_coverage\"\n",
    "query = \"SELECT \" + campo + \", CASE WHEN flg_pct = 1 THEN 'PCT' ELSE 'lncRNA' END AS flg_pct FROM secuencias_features WHERE flg_seleccionado = 1\"\n",
    "df = pd.read_sql_query(query, conn)\n",
    "df.hist(by='flg_pct', column=campo, bins=100, sharex=True, sharey = True, layout=(2,1), figsize=(10,10))\n",
    "\n",
    "print(df.groupby('flg_pct').describe().unstack(1))\n",
    "\n",
    "conn.close()"
   ]
  },
  {
   "cell_type": "code",
   "execution_count": 49,
   "metadata": {},
   "outputs": [
    {
     "name": "stdout",
     "output_type": "stream",
     "text": [
      "LONGITUD\n",
      "                     flg_pct\n",
      "ficket_score  count  PCT        126240.000000\n",
      "                     lncRNA     126240.000000\n",
      "              mean   PCT             0.909083\n",
      "                     lncRNA          0.836646\n",
      "              std    PCT             0.227040\n",
      "                     lncRNA          0.230707\n",
      "              min    PCT             0.000000\n",
      "                     lncRNA          0.000000\n",
      "              25%    PCT             0.744500\n",
      "                     lncRNA          0.673500\n",
      "              50%    PCT             0.914600\n",
      "                     lncRNA          0.834800\n",
      "              75%    PCT             1.078000\n",
      "                     lncRNA          1.003000\n",
      "              max    PCT             1.389500\n",
      "                     lncRNA          1.389500\n",
      "dtype: float64\n"
     ]
    },
    {
     "data": {
      "image/png": "[encoded data removed]",
      "text/plain": [
       "<Figure size 720x720 with 2 Axes>"
      ]
     },
     "metadata": {
      "needs_background": "light"
     },
     "output_type": "display_data"
    }
   ],
   "source": [
    "import mysql.connector\n",
    "import pandas as pd\n",
    "import matplotlib.pyplot as plt\n",
    "\n",
    "conn = mysql.connector.connect(\n",
    "   host=\"localhost\",\n",
    "   database=\"tesis2\",\n",
    "   user=\"tesis2\",\n",
    "   passwd=\"tesis2\"\n",
    ")\n",
    "\n",
    "print(\"LONGITUD\")\n",
    "campo = \"ficket_score\"\n",
    "query = \"SELECT \" + campo + \", CASE WHEN flg_pct = 1 THEN 'PCT' ELSE 'lncRNA' END AS flg_pct FROM secuencias_features WHERE flg_seleccionado = 1\"\n",
    "df = pd.read_sql_query(query, conn)\n",
    "df.hist(by='flg_pct', column=campo, bins=100, sharex=True, sharey = True, layout=(2,1), figsize=(10,10))\n",
    "\n",
    "print(df.groupby('flg_pct').describe().unstack(1))\n",
    "\n",
    "conn.close()"
   ]
  },
  {
   "cell_type": "code",
   "execution_count": 50,
   "metadata": {},
   "outputs": [
    {
     "name": "stdout",
     "output_type": "stream",
     "text": [
      "LONGITUD\n",
      "                      flg_pct\n",
      "hexamer_score  count  PCT        126240.000000\n",
      "                      lncRNA     126240.000000\n",
      "               mean   PCT             0.145323\n",
      "                      lncRNA         -0.023526\n",
      "               std    PCT             0.209812\n",
      "                      lncRNA          0.242776\n",
      "               min    PCT            -3.850430\n",
      "                      lncRNA         -3.652120\n",
      "               25%    PCT             0.017428\n",
      "                      lncRNA         -0.139973\n",
      "               50%    PCT             0.146518\n",
      "                      lncRNA         -0.008287\n",
      "               75%    PCT             0.255110\n",
      "                      lncRNA          0.114007\n",
      "               max    PCT             1.082120\n",
      "                      lncRNA          1.475400\n",
      "dtype: float64\n"
     ]
    },
    {
     "data": {
      "image/png": "[encoded data removed]",
      "text/plain": [
       "<Figure size 720x720 with 2 Axes>"
      ]
     },
     "metadata": {
      "needs_background": "light"
     },
     "output_type": "display_data"
    }
   ],
   "source": [
    "import mysql.connector\n",
    "import pandas as pd\n",
    "import matplotlib.pyplot as plt\n",
    "\n",
    "conn = mysql.connector.connect(\n",
    "   host=\"localhost\",\n",
    "   database=\"tesis2\",\n",
    "   user=\"tesis2\",\n",
    "   passwd=\"tesis2\"\n",
    ")\n",
    "\n",
    "print(\"LONGITUD\")\n",
    "campo = \"hexamer_score\"\n",
    "query = \"SELECT \" + campo + \", CASE WHEN flg_pct = 1 THEN 'PCT' ELSE 'lncRNA' END AS flg_pct FROM secuencias_features WHERE flg_seleccionado = 1\"\n",
    "df = pd.read_sql_query(query, conn)\n",
    "df.hist(by='flg_pct', column=campo, bins=100, sharex=True, sharey = True, layout=(2,1), figsize=(10,10))\n",
    "\n",
    "print(df.groupby('flg_pct').describe().unstack(1))\n",
    "\n",
    "conn.close()"
   ]
  },
  {
   "cell_type": "code",
   "execution_count": 51,
   "metadata": {},
   "outputs": [
    {
     "name": "stdout",
     "output_type": "stream",
     "text": [
      "LONGITUD\n",
      "                   flg_pct\n",
      "gc_content  count  PCT        126240.000000\n",
      "                   lncRNA     126240.000000\n",
      "            mean   PCT            42.245335\n",
      "                   lncRNA         43.242822\n",
      "            std    PCT             8.415669\n",
      "                   lncRNA          8.523503\n",
      "            min    PCT             3.130660\n",
      "                   lncRNA          4.817990\n",
      "            25%    PCT            36.912025\n",
      "                   lncRNA         37.522875\n",
      "            50%    PCT            40.387350\n",
      "                   lncRNA         41.824650\n",
      "            75%    PCT            45.129000\n",
      "                   lncRNA         47.602700\n",
      "            max    PCT            93.650800\n",
      "                   lncRNA         86.752100\n",
      "dtype: float64\n"
     ]
    },
    {
     "data": {
      "image/png": "[encoded data removed]",
      "text/plain": [
       "<Figure size 720x720 with 2 Axes>"
      ]
     },
     "metadata": {
      "needs_background": "light"
     },
     "output_type": "display_data"
    }
   ],
   "source": [
    "import mysql.connector\n",
    "import pandas as pd\n",
    "import matplotlib.pyplot as plt\n",
    "\n",
    "conn = mysql.connector.connect(\n",
    "   host=\"localhost\",\n",
    "   database=\"tesis2\",\n",
    "   user=\"tesis2\",\n",
    "   passwd=\"tesis2\"\n",
    ")\n",
    "\n",
    "print(\"LONGITUD\")\n",
    "campo = \"gc_content\"\n",
    "query = \"SELECT \" + campo + \", CASE WHEN flg_pct = 1 THEN 'PCT' ELSE 'lncRNA' END AS flg_pct FROM secuencias_features WHERE flg_seleccionado = 1\"\n",
    "df = pd.read_sql_query(query, conn)\n",
    "df.hist(by='flg_pct', column=campo, bins=100, sharex=True, sharey = True, layout=(2,1), figsize=(10,10))\n",
    "\n",
    "print(df.groupby('flg_pct').describe().unstack(1))\n",
    "\n",
    "conn.close()"
   ]
  },
  {
   "cell_type": "code",
   "execution_count": 52,
   "metadata": {},
   "outputs": [
    {
     "name": "stdout",
     "output_type": "stream",
     "text": [
      "LONGITUD\n",
      "                  flg_pct\n",
      "alignment  count  PCT        126240.000000\n",
      "                  lncRNA     126240.000000\n",
      "           mean   PCT            35.303897\n",
      "                  lncRNA          2.111266\n",
      "           std    PCT            30.616329\n",
      "                  lncRNA         11.437262\n",
      "           min    PCT             0.000000\n",
      "                  lncRNA          0.000000\n",
      "           25%    PCT             0.000000\n",
      "                  lncRNA          0.000000\n",
      "           50%    PCT            37.600000\n",
      "                  lncRNA          0.000000\n",
      "           75%    PCT            58.000000\n",
      "                  lncRNA          0.000000\n",
      "           max    PCT           100.000000\n",
      "                  lncRNA        100.000000\n",
      "dtype: float64\n"
     ]
    },
    {
     "data": {
      "image/png": "[encoded data removed]",
      "text/plain": [
       "<Figure size 720x720 with 2 Axes>"
      ]
     },
     "metadata": {
      "needs_background": "light"
     },
     "output_type": "display_data"
    }
   ],
   "source": [
    "import mysql.connector\n",
    "import pandas as pd\n",
    "import matplotlib.pyplot as plt\n",
    "\n",
    "conn = mysql.connector.connect(\n",
    "   host=\"localhost\",\n",
    "   database=\"tesis2\",\n",
    "   user=\"tesis2\",\n",
    "   passwd=\"tesis2\"\n",
    ")\n",
    "\n",
    "print(\"LONGITUD\")\n",
    "campo = \"alignment\"\n",
    "query = \"SELECT \" + campo + \", CASE WHEN flg_pct = 1 THEN 'PCT' ELSE 'lncRNA' END AS flg_pct FROM secuencias_features WHERE flg_seleccionado = 1\"\n",
    "df = pd.read_sql_query(query, conn)\n",
    "df.hist(by='flg_pct', column=campo, bins=100, sharex=True, sharey = True, layout=(2,1), figsize=(10,10))\n",
    "\n",
    "print(df.groupby('flg_pct').describe().unstack(1))\n",
    "\n",
    "conn.close()"
   ]
  },
  {
   "cell_type": "code",
   "execution_count": 53,
   "metadata": {},
   "outputs": [
    {
     "name": "stdout",
     "output_type": "stream",
     "text": [
      "LONGITUD\n",
      "                         flg_pct\n",
      "alignment_length  count  PCT        126240.000000\n",
      "                         lncRNA     126240.000000\n",
      "                  mean   PCT           193.551180\n",
      "                         lncRNA          2.298574\n",
      "                  std    PCT           276.994428\n",
      "                         lncRNA         14.286719\n",
      "                  min    PCT             0.000000\n",
      "                         lncRNA          0.000000\n",
      "                  25%    PCT             0.000000\n",
      "                         lncRNA          0.000000\n",
      "                  50%    PCT            97.000000\n",
      "                         lncRNA          0.000000\n",
      "                  75%    PCT           279.000000\n",
      "                         lncRNA          0.000000\n",
      "                  max    PCT          6481.000000\n",
      "                         lncRNA        461.000000\n",
      "dtype: float64\n"
     ]
    },
    {
     "data": {
      "image/png": "[encoded data removed]",
      "text/plain": [
       "<Figure size 720x720 with 2 Axes>"
      ]
     },
     "metadata": {
      "needs_background": "light"
     },
     "output_type": "display_data"
    }
   ],
   "source": [
    "import mysql.connector\n",
    "import pandas as pd\n",
    "import matplotlib.pyplot as plt\n",
    "\n",
    "conn = mysql.connector.connect(\n",
    "   host=\"localhost\",\n",
    "   database=\"tesis2\",\n",
    "   user=\"tesis2\",\n",
    "   passwd=\"tesis2\"\n",
    ")\n",
    "\n",
    "print(\"LONGITUD\")\n",
    "campo = \"alignment_length\"\n",
    "query = \"SELECT \" + campo + \", CASE WHEN flg_pct = 1 THEN 'PCT' ELSE 'lncRNA' END AS flg_pct FROM secuencias_features WHERE flg_seleccionado = 1\"\n",
    "df = pd.read_sql_query(query, conn)\n",
    "df.hist(by='flg_pct', column=campo, bins=100, sharex=True, sharey = True, layout=(2,1), figsize=(10,10))\n",
    "\n",
    "print(df.groupby('flg_pct').describe().unstack(1))\n",
    "\n",
    "conn.close()"
   ]
  },
  {
   "cell_type": "code",
   "execution_count": 54,
   "metadata": {},
   "outputs": [
    {
     "name": "stdout",
     "output_type": "stream",
     "text": [
      "LONGITUD\n",
      "                             flg_pct\n",
      "alignment_proportion  count  PCT        126240.000000\n",
      "                             lncRNA     126240.000000\n",
      "                      mean   PCT             0.075760\n",
      "                             lncRNA          0.003087\n",
      "                      std    PCT             0.097011\n",
      "                             lncRNA          0.020958\n",
      "                      min    PCT             0.000000\n",
      "                             lncRNA          0.000000\n",
      "                      25%    PCT             0.000000\n",
      "                             lncRNA          0.000000\n",
      "                      50%    PCT             0.031661\n",
      "                             lncRNA          0.000000\n",
      "                      75%    PCT             0.120577\n",
      "                             lncRNA          0.000000\n",
      "                      max    PCT             0.674107\n",
      "                             lncRNA          0.488372\n",
      "dtype: float64\n"
     ]
    },
    {
     "data": {
      "image/png": "[encoded data removed]",
      "text/plain": [
       "<Figure size 720x720 with 2 Axes>"
      ]
     },
     "metadata": {
      "needs_background": "light"
     },
     "output_type": "display_data"
    }
   ],
   "source": [
    "import mysql.connector\n",
    "import pandas as pd\n",
    "import matplotlib.pyplot as plt\n",
    "\n",
    "conn = mysql.connector.connect(\n",
    "   host=\"localhost\",\n",
    "   database=\"tesis2\",\n",
    "   user=\"tesis2\",\n",
    "   passwd=\"tesis2\"\n",
    ")\n",
    "\n",
    "print(\"LONGITUD\")\n",
    "campo = \"alignment_proportion\"\n",
    "query = \"SELECT \" + campo + \", CASE WHEN flg_pct = 1 THEN 'PCT' ELSE 'lncRNA' END AS flg_pct FROM secuencias_features WHERE flg_seleccionado = 1\"\n",
    "df = pd.read_sql_query(query, conn)\n",
    "df.hist(by='flg_pct', column=campo, bins=100, sharex=True, sharey = True, layout=(2,1), figsize=(10,10))\n",
    "\n",
    "print(df.groupby('flg_pct').describe().unstack(1))\n",
    "\n",
    "conn.close()"
   ]
  },
  {
   "cell_type": "code",
   "execution_count": 55,
   "metadata": {},
   "outputs": [
    {
     "name": "stdout",
     "output_type": "stream",
     "text": [
      "LONGITUD\n",
      "                                 flg_pct\n",
      "alignment_proportion_orf  count  PCT        126240.000000\n",
      "                                 lncRNA     126240.000000\n",
      "                          mean   PCT             0.337715\n",
      "                                 lncRNA          0.012659\n",
      "                          std    PCT             0.510525\n",
      "                                 lncRNA          0.088206\n",
      "                          min    PCT             0.000000\n",
      "                                 lncRNA          0.000000\n",
      "                          25%    PCT             0.000000\n",
      "                                 lncRNA          0.000000\n",
      "                          50%    PCT             0.229885\n",
      "                                 lncRNA          0.000000\n",
      "                          75%    PCT             0.382292\n",
      "                                 lncRNA          0.000000\n",
      "                          max    PCT            11.352800\n",
      "                                 lncRNA         12.000000\n",
      "dtype: float64\n"
     ]
    },
    {
     "data": {
      "image/png": "[encoded data removed]",
      "text/plain": [
       "<Figure size 720x720 with 2 Axes>"
      ]
     },
     "metadata": {
      "needs_background": "light"
     },
     "output_type": "display_data"
    }
   ],
   "source": [
    "import mysql.connector\n",
    "import pandas as pd\n",
    "import matplotlib.pyplot as plt\n",
    "\n",
    "conn = mysql.connector.connect(\n",
    "   host=\"localhost\",\n",
    "   database=\"tesis2\",\n",
    "   user=\"tesis2\",\n",
    "   passwd=\"tesis2\"\n",
    ")\n",
    "\n",
    "print(\"LONGITUD\")\n",
    "campo = \"alignment_proportion_orf\"\n",
    "query = \"SELECT \" + campo + \", CASE WHEN flg_pct = 1 THEN 'PCT' ELSE 'lncRNA' END AS flg_pct FROM secuencias_features WHERE flg_seleccionado = 1\"\n",
    "df = pd.read_sql_query(query, conn)\n",
    "df.hist(by='flg_pct', column=campo, bins=100, sharex=True, sharey = True, layout=(2,1), figsize=(10,10))\n",
    "\n",
    "print(df.groupby('flg_pct').describe().unstack(1))\n",
    "\n",
    "conn.close()"
   ]
  },
  {
   "cell_type": "code",
   "execution_count": 82,
   "metadata": {},
   "outputs": [
    {
     "name": "stdout",
     "output_type": "stream",
     "text": [
      "Iniciando proceso...\n"
     ]
    },
    {
     "data": {
      "text/html": [
       "<table border=\"1\" class=\"dataframe\">\n",
       "  <thead>\n",
       "    <tr style=\"text-align: right;\">\n",
       "      <th></th>\n",
       "      <th>accuracy</th>\n",
       "      <th>precision</th>\n",
       "      <th>recall</th>\n",
       "    </tr>\n",
       "    <tr>\n",
       "      <th>especie</th>\n",
       "      <th></th>\n",
       "      <th></th>\n",
       "      <th></th>\n",
       "    </tr>\n",
       "  </thead>\n",
       "  <tbody>\n",
       "    <tr>\n",
       "      <th>Especie2</th>\n",
       "      <td>0.903042</td>\n",
       "      <td>0.857079</td>\n",
       "      <td>0.967681</td>\n",
       "    </tr>\n",
       "    <tr>\n",
       "      <th>Especie5</th>\n",
       "      <td>0.896150</td>\n",
       "      <td>0.896863</td>\n",
       "      <td>0.895437</td>\n",
       "    </tr>\n",
       "    <tr>\n",
       "      <th>Especie6</th>\n",
       "      <td>0.930014</td>\n",
       "      <td>0.932393</td>\n",
       "      <td>0.927519</td>\n",
       "    </tr>\n",
       "    <tr>\n",
       "      <th>Especie8</th>\n",
       "      <td>0.903398</td>\n",
       "      <td>0.888514</td>\n",
       "      <td>0.922766</td>\n",
       "    </tr>\n",
       "    <tr>\n",
       "      <th>Especie9</th>\n",
       "      <td>0.880941</td>\n",
       "      <td>0.870710</td>\n",
       "      <td>0.894962</td>\n",
       "    </tr>\n",
       "    <tr>\n",
       "      <th>Especie10</th>\n",
       "      <td>0.886407</td>\n",
       "      <td>0.876121</td>\n",
       "      <td>0.900190</td>\n",
       "    </tr>\n",
       "    <tr>\n",
       "      <th>Especie11</th>\n",
       "      <td>0.905656</td>\n",
       "      <td>0.910161</td>\n",
       "      <td>0.900428</td>\n",
       "    </tr>\n",
       "    <tr>\n",
       "      <th>Especie23</th>\n",
       "      <td>0.889021</td>\n",
       "      <td>0.884328</td>\n",
       "      <td>0.895675</td>\n",
       "    </tr>\n",
       "    <tr>\n",
       "      <th>Especie24</th>\n",
       "      <td>0.873337</td>\n",
       "      <td>0.863484</td>\n",
       "      <td>0.887357</td>\n",
       "    </tr>\n",
       "    <tr>\n",
       "      <th>Especie33</th>\n",
       "      <td>0.918489</td>\n",
       "      <td>0.907373</td>\n",
       "      <td>0.932272</td>\n",
       "    </tr>\n",
       "    <tr>\n",
       "      <th>Especie34</th>\n",
       "      <td>0.934411</td>\n",
       "      <td>0.927041</td>\n",
       "      <td>0.943203</td>\n",
       "    </tr>\n",
       "    <tr>\n",
       "      <th>Especie36</th>\n",
       "      <td>0.894011</td>\n",
       "      <td>0.897039</td>\n",
       "      <td>0.890209</td>\n",
       "    </tr>\n",
       "    <tr>\n",
       "      <th>Especie38</th>\n",
       "      <td>0.938688</td>\n",
       "      <td>0.937472</td>\n",
       "      <td>0.940352</td>\n",
       "    </tr>\n",
       "    <tr>\n",
       "      <th>Especie42</th>\n",
       "      <td>0.885337</td>\n",
       "      <td>0.888691</td>\n",
       "      <td>0.881179</td>\n",
       "    </tr>\n",
       "    <tr>\n",
       "      <th>Especie43</th>\n",
       "      <td>0.903279</td>\n",
       "      <td>0.883734</td>\n",
       "      <td>0.928945</td>\n",
       "    </tr>\n",
       "    <tr>\n",
       "      <th>Especie49</th>\n",
       "      <td>0.899596</td>\n",
       "      <td>0.886477</td>\n",
       "      <td>0.916825</td>\n",
       "    </tr>\n",
       "    <tr>\n",
       "      <th>Especie50</th>\n",
       "      <td>0.918726</td>\n",
       "      <td>0.905043</td>\n",
       "      <td>0.935837</td>\n",
       "    </tr>\n",
       "    <tr>\n",
       "      <th>Especie55</th>\n",
       "      <td>0.907913</td>\n",
       "      <td>0.906766</td>\n",
       "      <td>0.909696</td>\n",
       "    </tr>\n",
       "    <tr>\n",
       "      <th>Especie57</th>\n",
       "      <td>0.900665</td>\n",
       "      <td>0.891985</td>\n",
       "      <td>0.911835</td>\n",
       "    </tr>\n",
       "    <tr>\n",
       "      <th>Especie59</th>\n",
       "      <td>0.918726</td>\n",
       "      <td>0.938474</td>\n",
       "      <td>0.896150</td>\n",
       "    </tr>\n",
       "    <tr>\n",
       "      <th>Especie62</th>\n",
       "      <td>0.896269</td>\n",
       "      <td>0.872510</td>\n",
       "      <td>0.928470</td>\n",
       "    </tr>\n",
       "    <tr>\n",
       "      <th>Especie63</th>\n",
       "      <td>0.927875</td>\n",
       "      <td>0.909645</td>\n",
       "      <td>0.950333</td>\n",
       "    </tr>\n",
       "    <tr>\n",
       "      <th>Especie68</th>\n",
       "      <td>0.853375</td>\n",
       "      <td>0.840467</td>\n",
       "      <td>0.872624</td>\n",
       "    </tr>\n",
       "    <tr>\n",
       "      <th>Especie69</th>\n",
       "      <td>0.904111</td>\n",
       "      <td>0.901149</td>\n",
       "      <td>0.908032</td>\n",
       "    </tr>\n",
       "    <tr>\n",
       "      <th>Especie70</th>\n",
       "      <td>0.848384</td>\n",
       "      <td>0.834211</td>\n",
       "      <td>0.869772</td>\n",
       "    </tr>\n",
       "    <tr>\n",
       "      <th>Especie71</th>\n",
       "      <td>0.894843</td>\n",
       "      <td>0.879586</td>\n",
       "      <td>0.915399</td>\n",
       "    </tr>\n",
       "    <tr>\n",
       "      <th>Especie73</th>\n",
       "      <td>0.953066</td>\n",
       "      <td>0.956125</td>\n",
       "      <td>0.949857</td>\n",
       "    </tr>\n",
       "    <tr>\n",
       "      <th>Especie74</th>\n",
       "      <td>0.887952</td>\n",
       "      <td>0.890484</td>\n",
       "      <td>0.884743</td>\n",
       "    </tr>\n",
       "    <tr>\n",
       "      <th>Especie75</th>\n",
       "      <td>0.893893</td>\n",
       "      <td>0.898781</td>\n",
       "      <td>0.888070</td>\n",
       "    </tr>\n",
       "    <tr>\n",
       "      <th>Especie80</th>\n",
       "      <td>0.893417</td>\n",
       "      <td>0.891690</td>\n",
       "      <td>0.895675</td>\n",
       "    </tr>\n",
       "  </tbody>\n",
       "</table>"
      ],
      "text/plain": [
       "<IPython.core.display.HTML object>"
      ]
     },
     "metadata": {},
     "output_type": "display_data"
    },
    {
     "data": {
      "text/html": [
       "<div>\n",
       "<style scoped>\n",
       "    .dataframe tbody tr th:only-of-type {\n",
       "        vertical-align: middle;\n",
       "    }\n",
       "\n",
       "    .dataframe tbody tr th {\n",
       "        vertical-align: top;\n",
       "    }\n",
       "\n",
       "    .dataframe thead th {\n",
       "        text-align: right;\n",
       "    }\n",
       "</style>\n",
       "<table border=\"1\" class=\"dataframe\">\n",
       "  <thead>\n",
       "    <tr style=\"text-align: right;\">\n",
       "      <th></th>\n",
       "      <th>accuracy</th>\n",
       "      <th>precision</th>\n",
       "      <th>recall</th>\n",
       "    </tr>\n",
       "  </thead>\n",
       "  <tbody>\n",
       "    <tr>\n",
       "      <th>count</th>\n",
       "      <td>30.000000</td>\n",
       "      <td>30.000000</td>\n",
       "      <td>30.000000</td>\n",
       "    </tr>\n",
       "    <tr>\n",
       "      <th>mean</th>\n",
       "      <td>0.901366</td>\n",
       "      <td>0.894147</td>\n",
       "      <td>0.911383</td>\n",
       "    </tr>\n",
       "    <tr>\n",
       "      <th>std</th>\n",
       "      <td>0.022785</td>\n",
       "      <td>0.027515</td>\n",
       "      <td>0.024929</td>\n",
       "    </tr>\n",
       "    <tr>\n",
       "      <th>min</th>\n",
       "      <td>0.848384</td>\n",
       "      <td>0.834211</td>\n",
       "      <td>0.869772</td>\n",
       "    </tr>\n",
       "    <tr>\n",
       "      <th>25%</th>\n",
       "      <td>0.890120</td>\n",
       "      <td>0.880623</td>\n",
       "      <td>0.895081</td>\n",
       "    </tr>\n",
       "    <tr>\n",
       "      <th>50%</th>\n",
       "      <td>0.900131</td>\n",
       "      <td>0.891838</td>\n",
       "      <td>0.908864</td>\n",
       "    </tr>\n",
       "    <tr>\n",
       "      <th>75%</th>\n",
       "      <td>0.915845</td>\n",
       "      <td>0.907221</td>\n",
       "      <td>0.928826</td>\n",
       "    </tr>\n",
       "    <tr>\n",
       "      <th>max</th>\n",
       "      <td>0.953066</td>\n",
       "      <td>0.956125</td>\n",
       "      <td>0.967681</td>\n",
       "    </tr>\n",
       "  </tbody>\n",
       "</table>\n",
       "</div>"
      ],
      "text/plain": [
       "        accuracy  precision     recall\n",
       "count  30.000000  30.000000  30.000000\n",
       "mean    0.901366   0.894147   0.911383\n",
       "std     0.022785   0.027515   0.024929\n",
       "min     0.848384   0.834211   0.869772\n",
       "25%     0.890120   0.880623   0.895081\n",
       "50%     0.900131   0.891838   0.908864\n",
       "75%     0.915845   0.907221   0.928826\n",
       "max     0.953066   0.956125   0.967681"
      ]
     },
     "metadata": {},
     "output_type": "display_data"
    },
    {
     "name": "stdout",
     "output_type": "stream",
     "text": [
      "Proceso terminado...\n",
      "CPU times: user 40.1 ms, sys: 7.95 ms, total: 48.1 ms\n",
      "Wall time: 52.7 ms\n"
     ]
    }
   ],
   "source": [
    "%%time\n",
    "import sys\n",
    "sys.path.append('./libs')\n",
    "import util_bd\n",
    "from sklearn.externals.joblib import load\n",
    "import pandas as pd\n",
    "import matplotlib.pyplot as plt\n",
    "from IPython.display import display, HTML\n",
    "\n",
    "print(\"Iniciando proceso...\")\n",
    "\n",
    "query = \"SELECT m.id_especie, m.especie FROM especies_seleccionadas s JOIN maestra_especies m ON s.especie = m.especie\"\n",
    "especies = util_bd.resultados_query(query)\n",
    "resultados = {}\n",
    "for especie in especies:\n",
    "    id_especie = especie[0]\n",
    "    identificador = \"Especie{}\".format(id_especie)\n",
    "    resultados[identificador] =  load('./modelos_referenciales/resultado_{}.bin'.format(identificador))\n",
    "\n",
    "data = [[especie, datos['accuracy'], datos['precision'], datos['recall']]\n",
    "        for especie, datos in resultados.items()]\n",
    "df = pd.DataFrame(data, columns=['especie', 'accuracy', 'precision', 'recall']).set_index('especie')\n",
    "    \n",
    "#df = pd.DataFrame(resultados)\n",
    "display(HTML(df.to_html()))\n",
    "display(df.describe())\n",
    "print(\"Proceso terminado...\")"
   ]
  }
 ],
 "metadata": {
  "kernelspec": {
   "display_name": "Python 3",
   "language": "python",
   "name": "python3"
  },
  "language_info": {
   "codemirror_mode": {
    "name": "ipython",
    "version": 3
   },
   "file_extension": ".py",
   "mimetype": "text/x-python",
   "name": "python",
   "nbconvert_exporter": "python",
   "pygments_lexer": "ipython3",
   "version": "3.7.3"
  }
 },
 "nbformat": 4,
 "nbformat_minor": 2
}
