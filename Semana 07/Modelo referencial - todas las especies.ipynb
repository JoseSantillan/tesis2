{
 "cells": [
  {
   "cell_type": "code",
   "execution_count": 1,
   "metadata": {},
   "outputs": [
    {
     "name": "stdout",
     "output_type": "stream",
     "text": [
      "Iniciando proceso...\n",
      "Procesando 2-Amborella trichopoda\n",
      "Procesando 5-Arabidopsis lyrata\n",
      "Procesando 6-Arabidopsis thaliana\n",
      "Procesando 8-Brachypodium distachyon\n",
      "Procesando 9-Brassica napus\n",
      "Procesando 10-Brassica oleracea\n",
      "Procesando 11-Brassica rapa\n",
      "Procesando 23-Corchorus capsularis\n",
      "Procesando 24-Cucumis sativus\n",
      "Procesando 33-Glycine max\n",
      "Procesando 34-Gossypium raimondii\n",
      "Procesando 36-Hordeum vulgare\n",
      "Procesando 38-Leersia perrieri\n",
      "Procesando 42-Manihot esculenta\n",
      "Procesando 43-Medicago truncatula\n",
      "Procesando 49-Oryza barthii\n",
      "Procesando 50-Oryza brachyantha\n",
      "Procesando 55-Oryza nivara\n",
      "Procesando 57-Oryza rufipogon\n",
      "Procesando 59-Oryza sativa Japonica Group\n",
      "Procesando 62-Physcomitrella patens\n",
      "Procesando 63-Populus trichocarpa\n",
      "Procesando 68-Setaria italica\n",
      "Procesando 69-Solanum lycopersicum\n",
      "Procesando 70-Solanum tuberosum\n",
      "Procesando 71-Sorghum bicolor\n",
      "Procesando 73-Theobroma cacao\n",
      "Procesando 74-Trifolium pratense\n",
      "Procesando 75-Triticum aestivum\n",
      "Procesando 80-Vitis vinifera\n",
      "Proceso terminado...\n",
      "CPU times: user 19.7 s, sys: 1.98 s, total: 21.7 s\n",
      "Wall time: 4min 54s\n"
     ]
    }
   ],
   "source": [
    "%%time\n",
    "import sys\n",
    "sys.path.append('./libs')\n",
    "import util_bd, util_fasta\n",
    "\n",
    "print(\"Iniciando proceso...\")\n",
    "\n",
    "query = \"SELECT m.id_especie, m.especie FROM especies_seleccionadas s JOIN maestra_especies m ON s.especie = m.especie\"\n",
    "especies = util_bd.resultados_query(query)\n",
    "\n",
    "for especie in especies:\n",
    "    id_especie = str(especie[0])\n",
    "    \n",
    "    print(\"Procesando {}-{}\".format(id_especie, especie[1]))\n",
    "    \n",
    "    # lncRNA\n",
    "    query = \"SELECT cod_secuencia, secuencia FROM secuencias WHERE flg_pct = 0 AND flg_seleccionado = 1 AND id_especie = \" + id_especie\n",
    "    secuencias = util_bd.resultados_query(query)\n",
    "    util_fasta.generar_fasta(secuencias, \"./data/Especie\" + id_especie + \".lncRNA.fasta\")\n",
    "\n",
    "    # PCT\n",
    "    query = \"SELECT cod_secuencia, secuencia FROM secuencias WHERE flg_pct = 1 AND flg_seleccionado = 1 AND id_especie = \" + id_especie\n",
    "    secuencias = util_bd.resultados_query(query)\n",
    "    util_fasta.generar_fasta(secuencias, \"./data/Especie\" + id_especie + \".PCT.fasta\")\n",
    "\n",
    "    # CDS\n",
    "    query = \"SELECT f.cod_secuencia, cds.coding FROM secuencias_CDS cds JOIN secuencias_features f ON cds.id_especie = f.id_especie AND cds.cod_secuencia = f.cod_secuencia WHERE f.flg_pct = 1 AND f.flg_seleccionado = 1 AND f.id_especie = \" + id_especie\n",
    "    secuencias = util_bd.resultados_query(query)\n",
    "    util_fasta.generar_fasta(secuencias, \"./data/Especie\" + id_especie + \".CDS.fasta\")\n",
    "\n",
    "print(\"Proceso terminado...\")"
   ]
  },
  {
   "cell_type": "code",
   "execution_count": null,
   "metadata": {},
   "outputs": [],
   "source": [
    "%%time\n",
    "import sys\n",
    "sys.path.append('./libs')\n",
    "import util_modelo_referencial, util_bd\n",
    "import warnings\n",
    "warnings.filterwarnings(\"ignore\")\n",
    "from sklearn.externals.joblib import load\n",
    "\n",
    "print(\"Iniciando proceso...\")\n",
    "\n",
    "query = \"SELECT m.id_especie, m.especie FROM especies_seleccionadas s JOIN maestra_especies m ON s.especie = m.especie\"\n",
    "especies = util_bd.resultados_query(query)\n",
    "\n",
    "tuned_parameters = [{'kernel': ['rbf'], 'gamma': [1e-3], 'C': [0.1,0.5,0.9,2]}]\n",
    "scores = [['accuracy','precision','recall']]\n",
    "              \n",
    "for especie in especies:\n",
    "    id_especie = especie[0]\n",
    "    print(\"Procesando {}-{}\".format(id_especie, especie[1]))\n",
    "    identificador = \"Especie{}\".format(id_especie)\n",
    "    util_modelo_referencial.crear_modelo_referencial(identificador, tuned_parameters, scores, n_jobs=-1)\n",
    "    print(load('./modelos_referenciales/resultado_{}.bin'.format(identificador)))\n",
    "\n",
    "print(\"Proceso terminado...\")"
   ]
  }
 ],
 "metadata": {
  "kernelspec": {
   "display_name": "Python 3",
   "language": "python",
   "name": "python3"
  },
  "language_info": {
   "codemirror_mode": {
    "name": "ipython",
    "version": 3
   },
   "file_extension": ".py",
   "mimetype": "text/x-python",
   "name": "python",
   "nbconvert_exporter": "python",
   "pygments_lexer": "ipython3",
   "version": "3.7.3"
  }
 },
 "nbformat": 4,
 "nbformat_minor": 2
}
