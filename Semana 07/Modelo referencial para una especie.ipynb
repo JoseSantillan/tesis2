{
 "cells": [
  {
   "cell_type": "markdown",
   "metadata": {},
   "source": [
    "Se generará el modelo específico para Amborella trichopoda.<br/>\n",
    "Primero se realiza la instalación de paquetes."
   ]
  },
  {
   "cell_type": "code",
   "execution_count": 1,
   "metadata": {},
   "outputs": [
    {
     "name": "stdout",
     "output_type": "stream",
     "text": [
      "Requirement already satisfied: numpy in /home/jose/anaconda3/lib/python3.7/site-packages (1.16.2)\r\n"
     ]
    }
   ],
   "source": [
    "# Install a pip package in the current Jupyter kernel\n",
    "import sys\n",
    "!{sys.executable} -m pip install numpy"
   ]
  },
  {
   "cell_type": "code",
   "execution_count": 2,
   "metadata": {},
   "outputs": [
    {
     "name": "stdout",
     "output_type": "stream",
     "text": [
      "Requirement already satisfied: biopython in /home/jose/anaconda3/lib/python3.7/site-packages (1.73)\n",
      "Requirement already satisfied: numpy in /home/jose/anaconda3/lib/python3.7/site-packages (from biopython) (1.16.2)\n"
     ]
    }
   ],
   "source": [
    "# Install a pip package in the current Jupyter kernel\n",
    "import sys\n",
    "!{sys.executable} -m pip install biopython"
   ]
  },
  {
   "cell_type": "code",
   "execution_count": 3,
   "metadata": {},
   "outputs": [
    {
     "name": "stdout",
     "output_type": "stream",
     "text": [
      "Requirement already satisfied: scipy in /home/jose/anaconda3/lib/python3.7/site-packages (1.2.1)\r\n"
     ]
    }
   ],
   "source": [
    "# Install a pip package in the current Jupyter kernel\n",
    "import sys\n",
    "!{sys.executable} -m pip install scipy"
   ]
  },
  {
   "cell_type": "code",
   "execution_count": 4,
   "metadata": {},
   "outputs": [
    {
     "name": "stdout",
     "output_type": "stream",
     "text": [
      "Requirement already satisfied: scikit-learn in /home/jose/anaconda3/lib/python3.7/site-packages (0.20.3)\n",
      "Requirement already satisfied: scipy>=0.13.3 in /home/jose/anaconda3/lib/python3.7/site-packages (from scikit-learn) (1.2.1)\n",
      "Requirement already satisfied: numpy>=1.8.2 in /home/jose/anaconda3/lib/python3.7/site-packages (from scikit-learn) (1.16.2)\n"
     ]
    }
   ],
   "source": [
    "# Install a pip package in the current Jupyter kernel\n",
    "import sys\n",
    "!{sys.executable} -m pip install scikit-learn"
   ]
  },
  {
   "cell_type": "code",
   "execution_count": 5,
   "metadata": {},
   "outputs": [
    {
     "name": "stdout",
     "output_type": "stream",
     "text": [
      "Requirement already satisfied: configparser in /home/jose/anaconda3/lib/python3.7/site-packages (3.7.4)\r\n"
     ]
    }
   ],
   "source": [
    "# Install a pip package in the current Jupyter kernel\n",
    "import sys\n",
    "!{sys.executable} -m pip install configparser"
   ]
  },
  {
   "cell_type": "code",
   "execution_count": 6,
   "metadata": {},
   "outputs": [
    {
     "name": "stdout",
     "output_type": "stream",
     "text": [
      "Requirement already satisfied: matplotlib in /home/jose/anaconda3/lib/python3.7/site-packages (3.0.3)\n",
      "Requirement already satisfied: numpy>=1.10.0 in /home/jose/anaconda3/lib/python3.7/site-packages (from matplotlib) (1.16.2)\n",
      "Requirement already satisfied: cycler>=0.10 in /home/jose/anaconda3/lib/python3.7/site-packages (from matplotlib) (0.10.0)\n",
      "Requirement already satisfied: kiwisolver>=1.0.1 in /home/jose/anaconda3/lib/python3.7/site-packages (from matplotlib) (1.0.1)\n",
      "Requirement already satisfied: pyparsing!=2.0.4,!=2.1.2,!=2.1.6,>=2.0.1 in /home/jose/anaconda3/lib/python3.7/site-packages (from matplotlib) (2.3.1)\n",
      "Requirement already satisfied: python-dateutil>=2.1 in /home/jose/anaconda3/lib/python3.7/site-packages (from matplotlib) (2.8.0)\n",
      "Requirement already satisfied: six in /home/jose/anaconda3/lib/python3.7/site-packages (from cycler>=0.10->matplotlib) (1.12.0)\n",
      "Requirement already satisfied: setuptools in /home/jose/anaconda3/lib/python3.7/site-packages (from kiwisolver>=1.0.1->matplotlib) (40.8.0)\n"
     ]
    }
   ],
   "source": [
    "# Install a pip package in the current Jupyter kernel\n",
    "import sys\n",
    "!{sys.executable} -m pip install matplotlib"
   ]
  },
  {
   "cell_type": "markdown",
   "metadata": {},
   "source": [
    "Generación de inputs en archivos fasta."
   ]
  },
  {
   "cell_type": "code",
   "execution_count": 7,
   "metadata": {},
   "outputs": [
    {
     "name": "stdout",
     "output_type": "stream",
     "text": [
      "Requirement already satisfied: myloginpath in /home/jose/anaconda3/lib/python3.7/site-packages (0.0.1)\n",
      "Requirement already satisfied: cryptography in /home/jose/anaconda3/lib/python3.7/site-packages (from myloginpath) (2.6.1)\n",
      "Requirement already satisfied: asn1crypto>=0.21.0 in /home/jose/anaconda3/lib/python3.7/site-packages (from cryptography->myloginpath) (0.24.0)\n",
      "Requirement already satisfied: cffi!=1.11.3,>=1.8 in /home/jose/anaconda3/lib/python3.7/site-packages (from cryptography->myloginpath) (1.12.2)\n",
      "Requirement already satisfied: six>=1.4.1 in /home/jose/anaconda3/lib/python3.7/site-packages (from cryptography->myloginpath) (1.12.0)\n",
      "Requirement already satisfied: pycparser in /home/jose/anaconda3/lib/python3.7/site-packages (from cffi!=1.11.3,>=1.8->cryptography->myloginpath) (2.19)\n"
     ]
    }
   ],
   "source": [
    "# Install a pip package in the current Jupyter kernel\n",
    "import sys\n",
    "!{sys.executable} -m pip install myloginpath"
   ]
  },
  {
   "cell_type": "code",
   "execution_count": 8,
   "metadata": {},
   "outputs": [
    {
     "name": "stdout",
     "output_type": "stream",
     "text": [
      "Overwriting ./libs/util_bd.py\n"
     ]
    }
   ],
   "source": [
    "%%writefile ./libs/util_bd.py\n",
    "import mysql.connector\n",
    "import myloginpath\n",
    "import pandas as pd\n",
    "\n",
    "def resultados_query(query):\n",
    "    conf = myloginpath.parse('tesis2')\n",
    "    conn = mysql.connector.connect(**conf, db=\"tesis2\")\n",
    "    cursor = conn.cursor()\n",
    "    cursor.execute(query)\n",
    "    resultado = cursor.fetchall()\n",
    "    conn.close()\n",
    "    return resultado\n",
    "\n",
    "def ejecutar_query(query):\n",
    "    conf = myloginpath.parse('tesis2')\n",
    "    conn = mysql.connector.connect(**conf, db=\"tesis2\")\n",
    "    cursor = conn.cursor()\n",
    "    cursor.execute(query)\n",
    "    conn.close()\n",
    "\n",
    "def mostrar_resultado_query(query):\n",
    "    conf = myloginpath.parse('tesis2')\n",
    "    conn = mysql.connector.connect(**conf, db=\"tesis2\")\n",
    "    df = pd.read_sql_query(query, conn)\n",
    "    display(df)\n",
    "    conn.close()"
   ]
  },
  {
   "cell_type": "code",
   "execution_count": 9,
   "metadata": {},
   "outputs": [
    {
     "name": "stdout",
     "output_type": "stream",
     "text": [
      "Overwriting ./libs/util_fasta.py\n"
     ]
    }
   ],
   "source": [
    "%%writefile ./libs/util_fasta.py\n",
    "import os\n",
    "\n",
    "def generar_fasta(secuencias, archivo):\n",
    "    t_tamanio = 80\n",
    "    f = open(archivo ,\"w+\")\n",
    "    for transcrito in secuencias:\n",
    "        f.write(\">%s\\n\" % (transcrito[0].strip().upper()))\n",
    "        seq = transcrito[1]\n",
    "        t_partes = [seq[i:i+t_tamanio] for i in range(0, len(seq), t_tamanio)]\n",
    "        for t_parte in t_partes:\n",
    "            f.write(\"%s\\n\" % (t_parte))\n",
    "    f.close()\n",
    "\n",
    "def leer_fasta(archivo):\n",
    "    transcritos = {}\n",
    "    cod_secuencia = \"\"\n",
    "    secuencia = \"\"\n",
    "    f = open(archivo, \"r\")\n",
    "    for linea in f:\n",
    "        if linea.startswith(\">\"):\n",
    "            if secuencia != \"\":\n",
    "                transcritos[cod_secuencia] = secuencia\n",
    "                secuencia = \"\"\n",
    "            cod_secuencia = linea.rstrip(\"\\n\").lstrip(\">\").strip().upper()\n",
    "        else:\n",
    "            secuencia += linea.rstrip(\"\\n\")\n",
    "    if secuencia != \"\":\n",
    "        transcritos[cod_secuencia] = secuencia\n",
    "        secuencia = \"\"\n",
    "    f.close()\n",
    "    return transcritos"
   ]
  },
  {
   "cell_type": "code",
   "execution_count": 10,
   "metadata": {},
   "outputs": [
    {
     "name": "stdout",
     "output_type": "stream",
     "text": [
      "Iniciando proceso...\n",
      "Generando fasta lncRNA...\n",
      "Generando fasta PCT...\n",
      "Generando fasta CDS...\n",
      "Proceso terminado...\n",
      "CPU times: user 1.61 s, sys: 188 ms, total: 1.8 s\n",
      "Wall time: 29.4 s\n"
     ]
    }
   ],
   "source": [
    "%%time\n",
    "import sys\n",
    "sys.path.append('./libs')\n",
    "import util_bd, util_fasta\n",
    "\n",
    "print(\"Iniciando proceso...\")\n",
    "id_especie = \"2\"\n",
    "\n",
    "# lncRNA\n",
    "print(\"Generando fasta lncRNA...\") \n",
    "query = \"SELECT cod_secuencia, secuencia FROM secuencias WHERE flg_pct = 0 AND flg_seleccionado = 1 AND id_especie = \" + id_especie\n",
    "secuencias = util_bd.resultados_query(query)\n",
    "util_fasta.generar_fasta(secuencias, \"./data/Especie\" + id_especie + \".lncRNA.fasta\")\n",
    "\n",
    "# PCT\n",
    "print(\"Generando fasta PCT...\") \n",
    "query = \"SELECT cod_secuencia, secuencia FROM secuencias WHERE flg_pct = 1 AND flg_seleccionado = 1 AND id_especie = \" + id_especie\n",
    "secuencias = util_bd.resultados_query(query)\n",
    "util_fasta.generar_fasta(secuencias, \"./data/Especie\" + id_especie + \".PCT.fasta\")\n",
    "\n",
    "# CDS\n",
    "print(\"Generando fasta CDS...\") \n",
    "query = \"SELECT f.cod_secuencia, cds.coding FROM secuencias_CDS cds JOIN secuencias_features f ON cds.id_especie = f.id_especie AND cds.cod_secuencia = f.cod_secuencia WHERE f.flg_pct = 1 AND f.flg_seleccionado = 1 AND f.id_especie = \" + id_especie\n",
    "secuencias = util_bd.resultados_query(query)\n",
    "util_fasta.generar_fasta(secuencias, \"./data/Especie\" + id_especie + \".CDS.fasta\")\n",
    "\n",
    "print(\"Proceso terminado...\")"
   ]
  },
  {
   "cell_type": "markdown",
   "metadata": {},
   "source": [
    "Generación de las características."
   ]
  },
  {
   "cell_type": "code",
   "execution_count": 11,
   "metadata": {},
   "outputs": [
    {
     "name": "stdout",
     "output_type": "stream",
     "text": [
      "Overwriting ./libs/util_caracteristicas.py\n"
     ]
    }
   ],
   "source": [
    "%%writefile ./libs/util_caracteristicas.py\n",
    "import os\n",
    "import util_bd, util_fasta\n",
    "from Bio.SeqUtils import GC\n",
    "import csv\n",
    "\n",
    "def generar_modelo_CPAT(identificador, codigos_lncRNA, codigos_PCT):\n",
    "    archivos = _rutas_archivos(identificador)\n",
    "    if os.path.isdir(archivos[\"cpat\"][\"directorio_base\"]):\n",
    "        return\n",
    "    _generar_directorios_cpat(archivos)\n",
    "    _generar_data_cpat(archivos, codigos_lncRNA, codigos_PCT)\n",
    "    _generar_modelo_cpat(archivos)\n",
    "\n",
    "def generar_caracteristicas(identificador, transcritos):\n",
    "    archivos = _rutas_archivos(identificador)\n",
    "    if not os.path.isdir(archivos[\"cpat\"][\"directorio_base\"]):\n",
    "        raise Exception(\"No se encontró la carpeta del modelo CPAT {}, probablemente aún no ha generado este modelo. Ruta buscada: {}\".format(identificador, archivos[\"cpat\"][\"directorio_base\"]))\n",
    "    _generar_transcritos_fasta(archivos, transcritos)\n",
    "    _generar_caracteristicas_cpat(archivos, archivos[\"transcritos_fasta\"])\n",
    "    _generar_caracteristicas_diamond(archivos, archivos[\"transcritos_fasta\"])\n",
    "    return _generar_caracteristicas(archivos, transcritos)\n",
    "    \n",
    "def _rutas_archivos(identificador):\n",
    "    archivos = {}\n",
    "    archivos[\"cpat\"] = { \"directorio_base\" : \"./CPAT/{}\".format(identificador) }\n",
    "    archivos[\"cpat\"][\"data\"] = { \"directorio\" : \"{}/data\".format(archivos[\"cpat\"][\"directorio_base\"]) }\n",
    "    archivos[\"cpat\"][\"data\"][\"lncRNA\"] = \"{}/lncRNA.fasta\".format(archivos[\"cpat\"][\"data\"][\"directorio\"])\n",
    "    archivos[\"cpat\"][\"data\"][\"PCT\"] = \"{}/PCT.fasta\".format(archivos[\"cpat\"][\"data\"][\"directorio\"])\n",
    "    archivos[\"cpat\"][\"data\"][\"CDS\"] = \"{}/CDS.fasta\".format(archivos[\"cpat\"][\"data\"][\"directorio\"])\n",
    "    archivos[\"cpat\"][\"modelo\"] = { \"directorio\" : \"{}/modelo\".format(archivos[\"cpat\"][\"directorio_base\"]) }\n",
    "    archivos[\"cpat\"][\"modelo\"][\"hexamer\"] = \"{}/hexamer.tsv\".format(archivos[\"cpat\"][\"modelo\"][\"directorio\"])\n",
    "    archivos[\"cpat\"][\"modelo\"][\"prefijo_logit\"] = \"{}/{}\".format(archivos[\"cpat\"][\"modelo\"][\"directorio\"], identificador)\n",
    "    archivos[\"cpat\"][\"modelo\"][\"logit\"] = \"{}.logit.RData\".format(archivos[\"cpat\"][\"modelo\"][\"prefijo_logit\"])\n",
    "    archivos[\"cpat\"][\"modelo\"][\"prefijo_cpat\"] = \"{}/{}\".format(archivos[\"cpat\"][\"modelo\"][\"directorio\"], identificador)\n",
    "    archivos[\"cpat\"][\"salida\"] = \"{}.dat\".format(archivos[\"cpat\"][\"modelo\"][\"prefijo_cpat\"])\n",
    "    archivos[\"cpat\"][\"scripts\"] = {\n",
    "        \"script_hexamer\" : \"~/anaconda3/bin/make_hexamer_tab.py\",\n",
    "        \"script_logit\" : \"~/anaconda3/bin/make_logitModel.py\",\n",
    "        \"script_cpat\" : \"~/anaconda3/bin/cpat.py\"\n",
    "    }\n",
    "    archivos[\"diamond\"] = { \"directorio_base\" : \"./Diamond\" }\n",
    "    archivos[\"diamond\"][\"bd\"] = \"{}/uniprot-viridiplantae-reviewed.dmnd\".format(archivos[\"diamond\"][\"directorio_base\"])\n",
    "    archivos[\"diamond\"][\"script\"] = \"~/anaconda3/bin/diamond\"\n",
    "    archivos[\"diamond\"][\"salida\"] = \"{}/{}.tsv\".format(archivos[\"diamond\"][\"directorio_base\"], identificador)\n",
    "    archivos[\"transcritos_fasta\"] = \"./data/{}.fasta\".format(identificador)\n",
    "    return archivos\n",
    "    \n",
    "def _generar_directorios_cpat(archivos):\n",
    "    os.mkdir(archivos[\"cpat\"][\"directorio_base\"])\n",
    "    os.mkdir(archivos[\"cpat\"][\"data\"][\"directorio\"])\n",
    "    os.mkdir(archivos[\"cpat\"][\"modelo\"][\"directorio\"])\n",
    "\n",
    "def _generar_data_cpat(archivos, codigos_lncRNA, codigos_PCT):\n",
    "    query = \"SELECT cod_secuencia, secuencia FROM secuencias WHERE cod_secuencia IN ('{}')\".format(\"', '\".join(codigos_lncRNA))\n",
    "    secuencias = util_bd.resultados_query(query)\n",
    "    util_fasta.generar_fasta(secuencias, archivos[\"cpat\"][\"data\"][\"lncRNA\"])\n",
    "    query = \"SELECT cod_secuencia, secuencia FROM secuencias WHERE cod_secuencia IN ('{}')\".format(\"', '\".join(codigos_PCT))\n",
    "    secuencias = util_bd.resultados_query(query)\n",
    "    util_fasta.generar_fasta(secuencias, archivos[\"cpat\"][\"data\"][\"PCT\"])\n",
    "    query = \"SELECT cod_secuencia, coding FROM secuencias_CDS WHERE cod_secuencia IN ('{}')\".format(\"', '\".join(codigos_PCT))\n",
    "    secuencias = util_bd.resultados_query(query)\n",
    "    util_fasta.generar_fasta(secuencias, archivos[\"cpat\"][\"data\"][\"CDS\"])\n",
    "\n",
    "def _generar_modelo_cpat(archivos):\n",
    "    _generar_hexamer_cpat(archivos)\n",
    "    _generar_logit_cpat(archivos)\n",
    "    \n",
    "def _generar_hexamer_cpat(archivos):\n",
    "    script = archivos[\"cpat\"][\"scripts\"][\"script_hexamer\"]\n",
    "    fasta_cds = \"'\" + archivos[\"cpat\"][\"data\"][\"CDS\"] + \"'\" \n",
    "    fasta_lncRNA = \"'\" + archivos[\"cpat\"][\"data\"][\"lncRNA\"] + \"'\"\n",
    "    salida = \"'\" + archivos[\"cpat\"][\"modelo\"][\"hexamer\"] + \"'\"\n",
    "    comando = \"{} -c {} -n {} > {}\".format(script, fasta_cds, fasta_lncRNA, salida)\n",
    "    os.system(comando)\n",
    "    \n",
    "def _generar_logit_cpat(archivos):\n",
    "    script = archivos[\"cpat\"][\"scripts\"][\"script_logit\"]\n",
    "    hexamer = \"'\" + archivos[\"cpat\"][\"modelo\"][\"hexamer\"] + \"'\"\n",
    "    fasta_pct = \"'\" + archivos[\"cpat\"][\"data\"][\"PCT\"] + \"'\" \n",
    "    fasta_lncRNA = \"'\" + archivos[\"cpat\"][\"data\"][\"lncRNA\"] + \"'\"\n",
    "    salida = \"'\" + archivos[\"cpat\"][\"modelo\"][\"prefijo_logit\"] + \"'\"\n",
    "    comando = \"{} -x {} -c {} -n {} -o {}\".format(script, hexamer, fasta_pct, fasta_lncRNA, salida)\n",
    "    os.system(comando)\n",
    "\n",
    "def _generar_transcritos_fasta(archivos, transcritos):\n",
    "    transcritos_array = transcritos.items()\n",
    "    util_fasta.generar_fasta(transcritos_array, archivos[\"transcritos_fasta\"])\n",
    "    \n",
    "def _generar_caracteristicas_cpat(archivos, transcritos_fasta):\n",
    "    script = archivos[\"cpat\"][\"scripts\"][\"script_cpat\"]\n",
    "    logit = \"'\" + archivos[\"cpat\"][\"modelo\"][\"logit\"] + \"'\"\n",
    "    hexamer = \"'\" + archivos[\"cpat\"][\"modelo\"][\"hexamer\"] + \"'\"\n",
    "    salida = \"'\" + archivos[\"cpat\"][\"modelo\"][\"prefijo_cpat\"] + \"'\"\n",
    "    comando = \"{} -g {} -d {} -x {} -o {}\".format(script, transcritos_fasta, logit, hexamer, salida)\n",
    "    os.system(comando)\n",
    "\n",
    "def _generar_caracteristicas_diamond(archivos, transcritos_fasta):\n",
    "    script = archivos[\"diamond\"][\"script\"]\n",
    "    diamond_bd = \"'\" + archivos[\"diamond\"][\"bd\"] + \"'\"\n",
    "    salida = \"'\" + archivos[\"diamond\"][\"salida\"] + \"'\"\n",
    "    comando = \"{} blastx -d {} -q {} -o {} -k 5 --gapopen 11 --gapextend 1 --more-sensitive -f 6 qseqid pident length qframe qstart qend sstart send evalue bitscore\".format(script, diamond_bd, transcritos_fasta, salida)\n",
    "    os.system(comando)\n",
    "\n",
    "def _generar_caracteristicas(archivos, transcritos):\n",
    "    transcript_dict = {}\n",
    "    for k in transcritos.keys():\n",
    "        transcript_dict[k.strip().upper()] = {\n",
    "            \"length\" : len(transcritos[k]),\n",
    "            \"gc\" : GC(transcritos[k]),\n",
    "            \"orf_length\" : 0,\n",
    "            \"orf_coverage\" : float(0),\n",
    "            \"hexamer_score\" : float(0),\n",
    "            \"fickett_score\" : float(0),\n",
    "            \"identity\" : float(0),\n",
    "            \"align_length\" : float(0),\n",
    "            \"align_perc_len\" : float(0),\n",
    "            \"align_perc_orf\" : float(0)\n",
    "        }\n",
    "    \n",
    "    with open(archivos[\"cpat\"][\"salida\"], \"r\") as f:\n",
    "        cpat_reader = csv.reader(f, delimiter=(\"\\t\"))\n",
    "        for row in cpat_reader:\n",
    "            cod_secuencia = row[0]\n",
    "            transcript_dict[cod_secuencia][\"orf_length\"] = float(row[2])\n",
    "            transcript_dict[cod_secuencia][\"orf_coverage\"] = float(row[2])/float(transcript_dict[cod_secuencia][\"length\"])\n",
    "            transcript_dict[cod_secuencia][\"fickett_score\"] = float(row[3])\n",
    "            transcript_dict[cod_secuencia][\"hexamer_score\"] = float(row[4])\n",
    "    \n",
    "    #adaptado de https://github.com/gbgolding/crema/blob/master/bin/featuresetup_module.py\n",
    "    with open(archivos[\"diamond\"][\"salida\"], \"r\") as f:\n",
    "        tab_reader = csv.reader(f, delimiter=(\"\\t\"))\n",
    "        line_1 = next(tab_reader)\n",
    "        first = line_1[0].upper()\n",
    "        score = [float(line_1[9])]\n",
    "        with_len = [[first, float(line_1[1]), float(line_1[2]), float(line_1[3]), float(line_1[9])]] # name identity length frame score\n",
    "        for row in tab_reader:\n",
    "            if row[0].upper() == first:\n",
    "                score.append(float(row[9]))\n",
    "                with_len.append([row[0].upper(), float(row[1]), float(row[2]), float(row[3]), float(row[9])])\n",
    "            else:\n",
    "                transcript_dict[first][\"identity\"] = float(0)\n",
    "                transcript_dict[first][\"align_length\"] = float(0)\n",
    "                max_value = max(score)\n",
    "                max_index = score.index(max_value)\n",
    "                max_len_ident = with_len[max_index]\n",
    "                if max_len_ident[3] > 0:\n",
    "                    transcript_dict[first][\"identity\"] = float(max_len_ident[1])\n",
    "                    transcript_dict[first][\"align_length\"] = float(max_len_ident[2])\n",
    "                    transcript_dict[first][\"align_perc_len\"] = float(transcript_dict[first][\"align_length\"]/transcript_dict[first][\"length\"])\n",
    "                    transcript_dict[first][\"align_perc_orf\"] = (0 if transcript_dict[first][\"orf_length\"] == 0 else float(transcript_dict[first][\"align_length\"]/transcript_dict[first][\"orf_length\"]))\n",
    "                score = [float(row[9])]\n",
    "                first = row[0].upper()\n",
    "                with_len = [[first, float(row[1]), float(row[2]), float(row[3]), float(row[9])]]\n",
    "        transcript_dict[first][\"identity\"] = float(0)\n",
    "        transcript_dict[first][\"align_length\"] = float(0)\n",
    "        max_value = max(score)\n",
    "        max_index = score.index(max_value)\n",
    "        max_len_ident = with_len[max_index]\n",
    "        if max_len_ident[3] > 0:\n",
    "            transcript_dict[first][\"identity\"] = float(max_len_ident[1])\n",
    "            transcript_dict[first][\"align_length\"] = float(max_len_ident[2])\n",
    "    #fin de código adaptado de https://github.com/gbgolding/crema/blob/master/bin/featuresetup_module.py\n",
    "    \n",
    "    return transcript_dict"
   ]
  },
  {
   "cell_type": "markdown",
   "metadata": {},
   "source": [
    "Prueba de generación de características"
   ]
  },
  {
   "cell_type": "code",
   "execution_count": null,
   "metadata": {},
   "outputs": [
    {
     "name": "stdout",
     "output_type": "stream",
     "text": [
      "Iniciando proceso...\n",
      "Leyendo fasta lncRNA...\n",
      "Leyendo fasta PCT...\n",
      "Leyendo fasta CDS...\n",
      "Generando modelo CPAT...\n",
      "Prueba lncRNA\n"
     ]
    },
    {
     "data": {
      "text/html": [
       "<div>\n",
       "<style scoped>\n",
       "    .dataframe tbody tr th:only-of-type {\n",
       "        vertical-align: middle;\n",
       "    }\n",
       "\n",
       "    .dataframe tbody tr th {\n",
       "        vertical-align: top;\n",
       "    }\n",
       "\n",
       "    .dataframe thead th {\n",
       "        text-align: right;\n",
       "    }\n",
       "</style>\n",
       "<table border=\"1\" class=\"dataframe\">\n",
       "  <thead>\n",
       "    <tr style=\"text-align: right;\">\n",
       "      <th></th>\n",
       "      <th>length</th>\n",
       "      <th>gc</th>\n",
       "      <th>orf_length</th>\n",
       "      <th>orf_coverage</th>\n",
       "      <th>hexamer_score</th>\n",
       "      <th>fickett_score</th>\n",
       "      <th>identity</th>\n",
       "      <th>align_length</th>\n",
       "      <th>align_perc_len</th>\n",
       "      <th>align_perc_orf</th>\n",
       "    </tr>\n",
       "  </thead>\n",
       "  <tbody>\n",
       "    <tr>\n",
       "      <th>LCL|ATRICHOPODA_EVM_27.MODEL.AMTR_V1.0_SCAFFOLD00001.100</th>\n",
       "      <td>351</td>\n",
       "      <td>47.293447</td>\n",
       "      <td>351.0</td>\n",
       "      <td>1.0</td>\n",
       "      <td>0.090494</td>\n",
       "      <td>0.9142</td>\n",
       "      <td>0.0</td>\n",
       "      <td>0.0</td>\n",
       "      <td>0.000000</td>\n",
       "      <td>0.000000</td>\n",
       "    </tr>\n",
       "    <tr>\n",
       "      <th>LCL|ATRICHOPODA_EVM_27.MODEL.AMTR_V1.0_SCAFFOLD00001.120</th>\n",
       "      <td>285</td>\n",
       "      <td>49.122807</td>\n",
       "      <td>285.0</td>\n",
       "      <td>1.0</td>\n",
       "      <td>0.119809</td>\n",
       "      <td>0.9125</td>\n",
       "      <td>40.4</td>\n",
       "      <td>104.0</td>\n",
       "      <td>0.364912</td>\n",
       "      <td>0.364912</td>\n",
       "    </tr>\n",
       "    <tr>\n",
       "      <th>LCL|ATRICHOPODA_EVM_27.MODEL.AMTR_V1.0_SCAFFOLD00001.133</th>\n",
       "      <td>231</td>\n",
       "      <td>38.961039</td>\n",
       "      <td>231.0</td>\n",
       "      <td>1.0</td>\n",
       "      <td>0.055321</td>\n",
       "      <td>0.6864</td>\n",
       "      <td>0.0</td>\n",
       "      <td>0.0</td>\n",
       "      <td>0.000000</td>\n",
       "      <td>0.000000</td>\n",
       "    </tr>\n",
       "    <tr>\n",
       "      <th>LCL|ATRICHOPODA_EVM_27.MODEL.AMTR_V1.0_SCAFFOLD00001.142</th>\n",
       "      <td>279</td>\n",
       "      <td>45.519713</td>\n",
       "      <td>279.0</td>\n",
       "      <td>1.0</td>\n",
       "      <td>0.037444</td>\n",
       "      <td>0.4407</td>\n",
       "      <td>0.0</td>\n",
       "      <td>0.0</td>\n",
       "      <td>0.000000</td>\n",
       "      <td>0.000000</td>\n",
       "    </tr>\n",
       "    <tr>\n",
       "      <th>LCL|ATRICHOPODA_EVM_27.MODEL.AMTR_V1.0_SCAFFOLD00001.181</th>\n",
       "      <td>354</td>\n",
       "      <td>48.022599</td>\n",
       "      <td>354.0</td>\n",
       "      <td>1.0</td>\n",
       "      <td>0.125634</td>\n",
       "      <td>0.8414</td>\n",
       "      <td>0.0</td>\n",
       "      <td>0.0</td>\n",
       "      <td>0.000000</td>\n",
       "      <td>0.000000</td>\n",
       "    </tr>\n",
       "  </tbody>\n",
       "</table>\n",
       "</div>"
      ],
      "text/plain": [
       "                                                    length         gc  \\\n",
       "LCL|ATRICHOPODA_EVM_27.MODEL.AMTR_V1.0_SCAFFOLD...     351  47.293447   \n",
       "LCL|ATRICHOPODA_EVM_27.MODEL.AMTR_V1.0_SCAFFOLD...     285  49.122807   \n",
       "LCL|ATRICHOPODA_EVM_27.MODEL.AMTR_V1.0_SCAFFOLD...     231  38.961039   \n",
       "LCL|ATRICHOPODA_EVM_27.MODEL.AMTR_V1.0_SCAFFOLD...     279  45.519713   \n",
       "LCL|ATRICHOPODA_EVM_27.MODEL.AMTR_V1.0_SCAFFOLD...     354  48.022599   \n",
       "\n",
       "                                                    orf_length  orf_coverage  \\\n",
       "LCL|ATRICHOPODA_EVM_27.MODEL.AMTR_V1.0_SCAFFOLD...       351.0           1.0   \n",
       "LCL|ATRICHOPODA_EVM_27.MODEL.AMTR_V1.0_SCAFFOLD...       285.0           1.0   \n",
       "LCL|ATRICHOPODA_EVM_27.MODEL.AMTR_V1.0_SCAFFOLD...       231.0           1.0   \n",
       "LCL|ATRICHOPODA_EVM_27.MODEL.AMTR_V1.0_SCAFFOLD...       279.0           1.0   \n",
       "LCL|ATRICHOPODA_EVM_27.MODEL.AMTR_V1.0_SCAFFOLD...       354.0           1.0   \n",
       "\n",
       "                                                    hexamer_score  \\\n",
       "LCL|ATRICHOPODA_EVM_27.MODEL.AMTR_V1.0_SCAFFOLD...       0.090494   \n",
       "LCL|ATRICHOPODA_EVM_27.MODEL.AMTR_V1.0_SCAFFOLD...       0.119809   \n",
       "LCL|ATRICHOPODA_EVM_27.MODEL.AMTR_V1.0_SCAFFOLD...       0.055321   \n",
       "LCL|ATRICHOPODA_EVM_27.MODEL.AMTR_V1.0_SCAFFOLD...       0.037444   \n",
       "LCL|ATRICHOPODA_EVM_27.MODEL.AMTR_V1.0_SCAFFOLD...       0.125634   \n",
       "\n",
       "                                                    fickett_score  identity  \\\n",
       "LCL|ATRICHOPODA_EVM_27.MODEL.AMTR_V1.0_SCAFFOLD...         0.9142       0.0   \n",
       "LCL|ATRICHOPODA_EVM_27.MODEL.AMTR_V1.0_SCAFFOLD...         0.9125      40.4   \n",
       "LCL|ATRICHOPODA_EVM_27.MODEL.AMTR_V1.0_SCAFFOLD...         0.6864       0.0   \n",
       "LCL|ATRICHOPODA_EVM_27.MODEL.AMTR_V1.0_SCAFFOLD...         0.4407       0.0   \n",
       "LCL|ATRICHOPODA_EVM_27.MODEL.AMTR_V1.0_SCAFFOLD...         0.8414       0.0   \n",
       "\n",
       "                                                    align_length  \\\n",
       "LCL|ATRICHOPODA_EVM_27.MODEL.AMTR_V1.0_SCAFFOLD...           0.0   \n",
       "LCL|ATRICHOPODA_EVM_27.MODEL.AMTR_V1.0_SCAFFOLD...         104.0   \n",
       "LCL|ATRICHOPODA_EVM_27.MODEL.AMTR_V1.0_SCAFFOLD...           0.0   \n",
       "LCL|ATRICHOPODA_EVM_27.MODEL.AMTR_V1.0_SCAFFOLD...           0.0   \n",
       "LCL|ATRICHOPODA_EVM_27.MODEL.AMTR_V1.0_SCAFFOLD...           0.0   \n",
       "\n",
       "                                                    align_perc_len  \\\n",
       "LCL|ATRICHOPODA_EVM_27.MODEL.AMTR_V1.0_SCAFFOLD...        0.000000   \n",
       "LCL|ATRICHOPODA_EVM_27.MODEL.AMTR_V1.0_SCAFFOLD...        0.364912   \n",
       "LCL|ATRICHOPODA_EVM_27.MODEL.AMTR_V1.0_SCAFFOLD...        0.000000   \n",
       "LCL|ATRICHOPODA_EVM_27.MODEL.AMTR_V1.0_SCAFFOLD...        0.000000   \n",
       "LCL|ATRICHOPODA_EVM_27.MODEL.AMTR_V1.0_SCAFFOLD...        0.000000   \n",
       "\n",
       "                                                    align_perc_orf  \n",
       "LCL|ATRICHOPODA_EVM_27.MODEL.AMTR_V1.0_SCAFFOLD...        0.000000  \n",
       "LCL|ATRICHOPODA_EVM_27.MODEL.AMTR_V1.0_SCAFFOLD...        0.364912  \n",
       "LCL|ATRICHOPODA_EVM_27.MODEL.AMTR_V1.0_SCAFFOLD...        0.000000  \n",
       "LCL|ATRICHOPODA_EVM_27.MODEL.AMTR_V1.0_SCAFFOLD...        0.000000  \n",
       "LCL|ATRICHOPODA_EVM_27.MODEL.AMTR_V1.0_SCAFFOLD...        0.000000  "
      ]
     },
     "metadata": {},
     "output_type": "display_data"
    },
    {
     "data": {
      "text/plain": [
       "length            288.955323\n",
       "gc                 48.080142\n",
       "orf_length        277.168489\n",
       "orf_coverage        0.965150\n",
       "hexamer_score       0.058192\n",
       "fickett_score       0.880493\n",
       "identity           10.783389\n",
       "align_length       15.074620\n",
       "align_perc_len      0.051645\n",
       "align_perc_orf      0.057322\n",
       "dtype: float64"
      ]
     },
     "metadata": {},
     "output_type": "display_data"
    },
    {
     "name": "stdout",
     "output_type": "stream",
     "text": [
      "Prueba PCT\n"
     ]
    }
   ],
   "source": [
    "%%time\n",
    "import sys\n",
    "sys.path.append('./libs')\n",
    "import util_caracteristicas, util_fasta\n",
    "import pandas as pd\n",
    "import os, shutil\n",
    "\n",
    "print(\"Iniciando proceso...\") \n",
    "\n",
    "identificador = \"Especie2\"\n",
    "\n",
    "if os.path.isdir(\"./CPAT/\" + identificador):\n",
    "     shutil.rmtree(\"./CPAT/\" + identificador)\n",
    "\n",
    "columnas = [\"length\", \"gc\", \"orf_length\", \"orf_coverage\", \"hexamer_score\", \"fickett_score\", \"identity\", \"align_length\", \"align_perc_len\", \"align_perc_orf\"]\n",
    "\n",
    "print(\"Leyendo fasta lncRNA...\")\n",
    "codigos_lncRNA = util_fasta.leer_fasta(\"./data/\" + identificador + \".lncRNA.fasta\")\n",
    "print(\"Leyendo fasta PCT...\")\n",
    "codigos_PCT = util_fasta.leer_fasta(\"./data/\" + identificador + \".PCT.fasta\")\n",
    "print(\"Leyendo fasta CDS...\")\n",
    "codigos_CDS = util_fasta.leer_fasta(\"./data/\" + identificador + \".CDS.fasta\")\n",
    "print(\"Generando modelo CPAT...\")\n",
    "util_caracteristicas.generar_modelo_CPAT(identificador, codigos_lncRNA.keys(), codigos_PCT.keys())\n",
    "print(\"Prueba lncRNA\")\n",
    "resultado = util_caracteristicas.generar_caracteristicas(identificador, codigos_lncRNA)\n",
    "display(pd.DataFrame.from_dict(resultado, orient='index', columns=columnas).head())\n",
    "display(pd.DataFrame.from_dict(resultado, orient='index', columns=columnas).mean(axis=0))\n",
    "print(\"Prueba PCT\")\n",
    "resultado = util_caracteristicas.generar_caracteristicas(identificador, codigos_PCT)\n",
    "display(pd.DataFrame.from_dict(resultado, orient='index', columns=columnas).head())\n",
    "display(pd.DataFrame.from_dict(resultado, orient='index', columns=columnas).mean(axis=0))\n",
    "print(\"Prueba CDS\")\n",
    "resultado = util_caracteristicas.generar_caracteristicas(identificador, codigos_CDS)\n",
    "display(pd.DataFrame.from_dict(resultado, orient='index', columns=columnas).head())\n",
    "display(pd.DataFrame.from_dict(resultado, orient='index', columns=columnas).mean(axis=0))\n",
    "\n",
    "print(\"Proceso finalizado...\")"
   ]
  }
 ],
 "metadata": {
  "kernelspec": {
   "display_name": "Python 3",
   "language": "python",
   "name": "python3"
  },
  "language_info": {
   "codemirror_mode": {
    "name": "ipython",
    "version": 3
   },
   "file_extension": ".py",
   "mimetype": "text/x-python",
   "name": "python",
   "nbconvert_exporter": "python",
   "pygments_lexer": "ipython3",
   "version": "3.7.3"
  }
 },
 "nbformat": 4,
 "nbformat_minor": 2
}
