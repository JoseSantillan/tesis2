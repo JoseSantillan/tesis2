{
 "cells": [
  {
   "cell_type": "code",
   "execution_count": 1,
   "metadata": {},
   "outputs": [],
   "source": [
    "import sys\n",
    "sys.path.append('./libs')\n",
    "import util_bd\n",
    "import os\n",
    "\n",
    "def obtener_especies():\n",
    "    query = \"SELECT m.id_especie FROM especies_seleccionadas s JOIN maestra_especies m ON s.especie = m.especie ORDER BY m.id_especie\"\n",
    "    especies = util_bd.resultados_query(query)\n",
    "    return [especie[0] for especie in especies]\n",
    "\n",
    "#limpieza\n",
    "if os.path.isdir(\"./data\"):\n",
    "    shutil.rmtree(\"./data\")\n",
    "if os.path.isdir(\"./folds\"):\n",
    "    shutil.rmtree(\"./folds\")"
   ]
  },
  {
   "cell_type": "code",
   "execution_count": 2,
   "metadata": {
    "scrolled": true
   },
   "outputs": [
    {
     "name": "stdout",
     "output_type": "stream",
     "text": [
      "CPU times: user 168 ms, sys: 48 ms, total: 216 ms\n",
      "Wall time: 4min 33s\n",
      "Proceso finalizado\n"
     ]
    }
   ],
   "source": [
    "#Generación de archivos fasta para las 30 especies\n",
    "import sys\n",
    "sys.path.append('./libs')\n",
    "import util_bd, util_fasta\n",
    "import os\n",
    "import shutil\n",
    "from sklearn.externals.joblib import Parallel, delayed\n",
    "        \n",
    "def generar_fasta_especie(id_especie):\n",
    "    # lncRNA\n",
    "    query = \"SELECT cod_secuencia, secuencia FROM secuencias WHERE flg_pct = 0 AND flg_seleccionado = 1 AND id_especie = \" + str(id_especie) + \" ORDER BY cod_secuencia\"\n",
    "    secuencias = util_bd.resultados_query(query)\n",
    "    util_fasta.generar_fasta(secuencias, \"./data/Especie\" + str(id_especie) + \".lncRNA.fasta\")\n",
    "    # PCT\n",
    "    query = \"SELECT cod_secuencia, secuencia FROM secuencias WHERE flg_pct = 1 AND flg_seleccionado = 1 AND id_especie = \" + str(id_especie) + \" ORDER BY cod_secuencia\"\n",
    "    secuencias = util_bd.resultados_query(query)\n",
    "    util_fasta.generar_fasta(secuencias, \"./data/Especie\" + str(id_especie) + \".PCT.fasta\")\n",
    "    # CDS\n",
    "    query = \"SELECT f.cod_secuencia, cds.coding FROM secuencias_CDS cds JOIN secuencias_features f ON cds.id_especie = f.id_especie AND cds.cod_secuencia = f.cod_secuencia WHERE f.flg_pct = 1 AND f.flg_seleccionado = 1 AND f.id_especie = \" + str(id_especie) + \" ORDER BY f.cod_secuencia\"\n",
    "    secuencias = util_bd.resultados_query(query)\n",
    "    util_fasta.generar_fasta(secuencias, \"./data/Especie\" + str(id_especie) + \".CDS.fasta\")\n",
    "\n",
    "if os.path.isdir(\"./data\"):\n",
    "    shutil.rmtree(\"./data\")\n",
    "os.mkdir(\"./data\")\n",
    "\n",
    "%time Parallel(n_jobs=4, verbose=0)(delayed(generar_fasta_especie)(id_especie) for id_especie in obtener_especies())\n",
    "print(\"Proceso finalizado\")"
   ]
  },
  {
   "cell_type": "code",
   "execution_count": 3,
   "metadata": {},
   "outputs": [
    {
     "name": "stdout",
     "output_type": "stream",
     "text": [
      "CPU times: user 7.38 ms, sys: 4.3 ms, total: 11.7 ms\n",
      "Wall time: 18.3 s\n",
      "CPU times: user 86.3 ms, sys: 7.68 ms, total: 94 ms\n",
      "Wall time: 6min 54s\n",
      "CPU times: user 0 ns, sys: 77.4 ms, total: 77.4 ms\n",
      "Wall time: 501 ms\n",
      "Proceso finalizado\n"
     ]
    }
   ],
   "source": [
    "#Armando folds (archivos fasta)\n",
    "import sys\n",
    "sys.path.append('./libs')\n",
    "import util_bd, util_fasta\n",
    "import os\n",
    "import shutil\n",
    "\n",
    "def crear_estructura_carpetas(carpeta_fold):\n",
    "    os.mkdir(carpeta_fold)\n",
    "    os.mkdir(carpeta_fold + \"/train\")\n",
    "    os.mkdir(carpeta_fold + \"/test\")\n",
    "    os.mkdir(carpeta_fold + \"/cpat\")\n",
    "    os.mkdir(carpeta_fold + \"/features\")\n",
    "    os.mkdir(carpeta_fold + \"/features/train\")\n",
    "    os.mkdir(carpeta_fold + \"/features/test\")\n",
    "\n",
    "def armar_fold_final(tipo):\n",
    "    with open(\"./folds/fold_final/train/\" + tipo + \".fasta\", \"w+\") as outfile:\n",
    "        for id_especie in obtener_especies():\n",
    "            with open(\"./data/Especie\" + str(id_especie) + \".\" + tipo + \".fasta\", \"r\") as infile:\n",
    "                for inline in infile:\n",
    "                    outfile.write(inline)\n",
    "    \n",
    "def armar_fold_especie(id_especie):\n",
    "    crear_estructura_carpetas(\"./folds/fold_Especie\" + str(id_especie))\n",
    "    for tipo in [\"lncRNA\", \"PCT\", \"CDS\"]:\n",
    "        with open(\"./folds/fold_Especie\" + str(id_especie) + \"/train/\" + tipo + \".fasta\", \"w+\") as outfile:\n",
    "            for id_especie_sub in obtener_especies():\n",
    "                with open(\"./data/Especie\" + str(id_especie_sub) + \".\" + tipo + \".fasta\") as infile:\n",
    "                    for inline in infile:\n",
    "                        if id_especie != id_especie_sub:\n",
    "                            outfile.write(inline)\n",
    "    for tipo in [\"lncRNA\", \"PCT\"]:\n",
    "        with open(\"./folds/fold_Especie\" + str(id_especie) + \"/test/\" + tipo + \".fasta\", \"w+\") as outfile:\n",
    "            with open(\"./data/Especie\" + str(id_especie) + \".\" + tipo + \".fasta\") as infile:\n",
    "                for inline in infile:\n",
    "                    outfile.write(inline)\n",
    "\n",
    "if os.path.isdir(\"./folds\"):\n",
    "    shutil.rmtree(\"./folds\")\n",
    "os.mkdir(\"./folds\")\n",
    "crear_estructura_carpetas(\"./folds/fold_final\")\n",
    "\n",
    "%time Parallel(n_jobs=4, verbose=0)(delayed(armar_fold_final)(tipo) for tipo in [\"lncRNA\", \"PCT\", \"CDS\"])\n",
    "%time Parallel(n_jobs=4, verbose=0)(delayed(armar_fold_especie)(id_especie) for id_especie in obtener_especies())\n",
    "%time shutil.rmtree(\"./data\")\n",
    "    \n",
    "print(\"Proceso finalizado\")"
   ]
  },
  {
   "cell_type": "code",
   "execution_count": 4,
   "metadata": {},
   "outputs": [
    {
     "name": "stdout",
     "output_type": "stream",
     "text": [
      "CPU times: user 14.8 ms, sys: 5.76 ms, total: 20.5 ms\n",
      "Wall time: 8min 59s\n",
      "CPU times: user 266 ms, sys: 70.8 ms, total: 337 ms\n",
      "Wall time: 2h 26min 6s\n",
      "CPU times: user 0 ns, sys: 4.9 ms, total: 4.9 ms\n",
      "Wall time: 91.3 ms\n",
      "CPU times: user 25.7 ms, sys: 25.1 ms, total: 50.8 ms\n",
      "Wall time: 2.43 s\n",
      "Proceso finalizado\n"
     ]
    }
   ],
   "source": [
    "#Generando modelos CPAT de los folds\n",
    "import sys\n",
    "sys.path.append('./libs')\n",
    "import util_caracteristicas\n",
    "import importlib\n",
    "\n",
    "importlib.reload(util_caracteristicas)\n",
    "\n",
    "def generar_cpat_fold(id_especie):\n",
    "    archivo_lncRNA = \"./folds/fold_Especie\" + str(id_especie) + \"/train/lncRNA.fasta\"\n",
    "    archivo_PCT = \"./folds/fold_Especie\" + str(id_especie) + \"/train/PCT.fasta\"\n",
    "    archivo_CDS = \"./folds/fold_Especie\" + str(id_especie) + \"/train/CDS.fasta\"\n",
    "    carpeta_cpat = \"./folds/fold_Especie\" + str(id_especie) + \"/cpat\"\n",
    "    util_caracteristicas.generar_modelo_CPAT(archivo_lncRNA, archivo_PCT, archivo_CDS, carpeta_cpat)\n",
    "    \n",
    "def generar_cpat_final():\n",
    "    archivo_lncRNA = \"./folds/fold_final/train/lncRNA.fasta\"\n",
    "    archivo_PCT = \"./folds/fold_final/train/PCT.fasta\"\n",
    "    archivo_CDS = \"./folds/fold_final/train/CDS.fasta\"\n",
    "    carpeta_cpat = \"./folds/fold_final/cpat\"\n",
    "    util_caracteristicas.generar_modelo_CPAT(archivo_lncRNA, archivo_PCT, archivo_CDS, carpeta_cpat)\n",
    "\n",
    "def limpieza_archivos_CDS(id_especie):\n",
    "    os.remove(\"./folds/fold_Especie\" + str(id_especie) + \"/train/CDS.fasta\")\n",
    "\n",
    "%time generar_cpat_final()\n",
    "%time Parallel(n_jobs=4, verbose=0)(delayed(generar_cpat_fold)(id_especie) for id_especie in obtener_especies())\n",
    "%time os.remove(\"./folds/fold_final/train/CDS.fasta\")\n",
    "%time Parallel(n_jobs=4, verbose=0)(delayed(limpieza_archivos_CDS)(id_especie) for id_especie in obtener_especies())\n",
    "    \n",
    "print(\"Proceso finalizado\")"
   ]
  },
  {
   "cell_type": "code",
   "execution_count": 5,
   "metadata": {},
   "outputs": [
    {
     "name": "stdout",
     "output_type": "stream",
     "text": [
      "CPU times: user 64.5 ms, sys: 34.1 ms, total: 98.6 ms\n",
      "Wall time: 42min 41s\n",
      "CPU times: user 241 ms, sys: 74 ms, total: 315 ms\n",
      "Wall time: 2h 11min 29s\n",
      "Proceso finalizado\n"
     ]
    }
   ],
   "source": [
    "#Ejecutar cpat y diamond sobre los folds\n",
    "import os\n",
    "import sys\n",
    "sys.path.append('./libs')\n",
    "import util_caracteristicas\n",
    "import importlib\n",
    "\n",
    "importlib.reload(util_caracteristicas)\n",
    "\n",
    "def ejecutar_cpat_fold(id_especie):\n",
    "    archivo_lncRNA = \"./folds/fold_Especie\" + str(id_especie) + \"/train/lncRNA.fasta\"\n",
    "    archivo_PCT = \"./folds/fold_Especie\" + str(id_especie) + \"/train/PCT.fasta\"\n",
    "    carpeta_cpat = \"./folds/fold_Especie\" + str(id_especie) + \"/cpat\"\n",
    "    util_caracteristicas.ejecutar_cpat(archivo_lncRNA, carpeta_cpat, archivo_lncRNA.replace(\"fasta\", \"cpat\"))\n",
    "    os.remove(archivo_lncRNA.replace(\"fasta\", \"cpat\") + \".dat\")\n",
    "    os.remove(archivo_lncRNA.replace(\"fasta\", \"cpat\") + \".r\")\n",
    "    util_caracteristicas.ejecutar_cpat(archivo_PCT, carpeta_cpat, archivo_PCT.replace(\"fasta\", \"cpat\"))\n",
    "    os.remove(archivo_PCT.replace(\"fasta\", \"cpat\") + \".dat\")\n",
    "    os.remove(archivo_PCT.replace(\"fasta\", \"cpat\") + \".r\")\n",
    "\n",
    "def ejecutar_cpat_diamond_final():\n",
    "    archivo_lncRNA = \"./folds/fold_final/train/lncRNA.fasta\"\n",
    "    archivo_PCT = \"./folds/fold_final/train/PCT.fasta\"\n",
    "    diamond_db = \"./Diamond_BD/uniprot-viridiplantae-reviewed.dmnd\"\n",
    "    carpeta_cpat = \"./folds/fold_final/cpat\"\n",
    "    util_caracteristicas.ejecutar_diamond(archivo_lncRNA, diamond_db, archivo_lncRNA.replace(\"fasta\", \"dmnd\"))\n",
    "    util_caracteristicas.ejecutar_diamond(archivo_PCT, diamond_db, archivo_PCT.replace(\"fasta\", \"dmnd\"))\n",
    "    util_caracteristicas.ejecutar_cpat(archivo_lncRNA, carpeta_cpat, archivo_lncRNA.replace(\"fasta\", \"cpat\"))\n",
    "    os.remove(archivo_lncRNA.replace(\"fasta\", \"cpat\") + \".dat\")\n",
    "    os.remove(archivo_lncRNA.replace(\"fasta\", \"cpat\") + \".r\")\n",
    "    util_caracteristicas.ejecutar_cpat(archivo_PCT, carpeta_cpat, archivo_PCT.replace(\"fasta\", \"cpat\"))\n",
    "    os.remove(archivo_PCT.replace(\"fasta\", \"cpat\") + \".dat\")\n",
    "    os.remove(archivo_PCT.replace(\"fasta\", \"cpat\") + \".r\")\n",
    "\n",
    "%time ejecutar_cpat_diamond_final()\n",
    "%time Parallel(n_jobs=4, verbose=0)(delayed(ejecutar_cpat_fold)(id_especie) for id_especie in obtener_especies())\n",
    "    \n",
    "print(\"Proceso finalizado\")"
   ]
  },
  {
   "cell_type": "code",
   "execution_count": 6,
   "metadata": {},
   "outputs": [
    {
     "name": "stdout",
     "output_type": "stream",
     "text": [
      "CPU times: user 34.2 s, sys: 850 ms, total: 35 s\n",
      "Wall time: 41.8 s\n"
     ]
    },
    {
     "name": "stderr",
     "output_type": "stream",
     "text": [
      "/home/jose/anaconda3/lib/python3.7/site-packages/sklearn/externals/joblib/externals/loky/process_executor.py:706: UserWarning: A worker stopped while some jobs were given to the executor. This can be caused by a too short worker timeout or by a memory leak.\n",
      "  \"timeout or by a memory leak.\", UserWarning\n"
     ]
    },
    {
     "name": "stdout",
     "output_type": "stream",
     "text": [
      "CPU times: user 96 ms, sys: 142 ms, total: 238 ms\n",
      "Wall time: 13min 45s\n",
      "CPU times: user 6.23 ms, sys: 0 ns, total: 6.23 ms\n",
      "Wall time: 373 ms\n",
      "CPU times: user 40.3 ms, sys: 129 µs, total: 40.5 ms\n",
      "Wall time: 1.77 s\n",
      "Proceso finalizado\n"
     ]
    }
   ],
   "source": [
    "#Generar archivo de features por cada fold\n",
    "import os\n",
    "import sys\n",
    "sys.path.append('./libs')\n",
    "import util_caracteristicas\n",
    "import importlib\n",
    "\n",
    "importlib.reload(util_caracteristicas)\n",
    "\n",
    "def generar_features_fold(id_especie):\n",
    "    features_base_lncRNA = \"./folds/fold_final/features/train/lncRNA.ft\"\n",
    "    features_base_PCT = \"./folds/fold_final/features/train/PCT.ft\"\n",
    "    for tipo in [\"train\", \"test\"]:\n",
    "        archivo_lncRNA = \"./folds/fold_Especie\" + str(id_especie) + \"/\" + tipo + \"/lncRNA.fasta\"\n",
    "        archivo_PCT = \"./folds/fold_Especie\" + str(id_especie) + \"/\" + tipo + \"/PCT.fasta\"\n",
    "        archivo_cpat_lncRNA = \"./folds/fold_Especie\" + str(id_especie) + \"/train/lncRNA.cpat\"\n",
    "        archivo_cpat_PCT = \"./folds/fold_Especie\" + str(id_especie) + \"/train/PCT.cpat\"\n",
    "        salida_lncRNA = \"./folds/fold_Especie\" + str(id_especie) + \"/features/\" + tipo + \"/lncRNA.fasta\"\n",
    "        salida_PCT = \"./folds/fold_Especie\" + str(id_especie) + \"/features/\" + tipo + \"/PCT.fasta\"\n",
    "        util_caracteristicas.generar_features(archivo_lncRNA, features_base_lncRNA, archivo_cpat_lncRNA, salida_lncRNA)\n",
    "        util_caracteristicas.generar_features(archivo_PCT, features_base_PCT, archivo_cpat_PCT, salida_PCT)\n",
    "    \n",
    "def generar_features_final():\n",
    "    archivo_lncRNA = \"./folds/fold_final/train/lncRNA.fasta\"\n",
    "    archivo_PCT = \"./folds/fold_final/train/PCT.fasta\"\n",
    "    salida_lncRNA = \"./folds/fold_final/features/train/lncRNA.ft\"\n",
    "    salida_PCT = \"./folds/fold_final/features/train/PCT.ft\"\n",
    "    util_caracteristicas.generar_features_base(archivo_lncRNA, archivo_lncRNA.replace(\"fasta\", \"cpat\"), archivo_lncRNA.replace(\"fasta\", \"dmnd\"), salida_lncRNA)\n",
    "    util_caracteristicas.generar_features_base(archivo_PCT, archivo_PCT.replace(\"fasta\", \"cpat\"), archivo_PCT.replace(\"fasta\", \"dmnd\"), salida_PCT)\n",
    "\n",
    "def limpieza_archivos_finales_fasta_ruta(ruta):\n",
    "    shutil.rmtree(ruta + \"/cpat\")\n",
    "    shutil.rmtree(ruta + \"/test\")\n",
    "    shutil.rmtree(ruta + \"/train\")\n",
    "    \n",
    "def limpieza_archivos_finales_fasta(id_especie):\n",
    "    limpieza_archivos_finales_fasta_ruta(\"./folds/fold_Especie\" + str(id_especie))\n",
    "\n",
    "%time generar_features_final()\n",
    "%time Parallel(n_jobs=4, verbose=0)(delayed(generar_features_fold)(id_especie) for id_especie in obtener_especies())\n",
    "%time limpieza_archivos_finales_fasta_ruta(\"./folds/fold_final\")\n",
    "%time Parallel(n_jobs=4, verbose=0)(delayed(limpieza_archivos_finales_fasta)(id_especie) for id_especie in obtener_especies())\n",
    "    \n",
    "print(\"Proceso finalizado\")"
   ]
  }
 ],
 "metadata": {
  "kernelspec": {
   "display_name": "Python 3",
   "language": "python",
   "name": "python3"
  },
  "language_info": {
   "codemirror_mode": {
    "name": "ipython",
    "version": 3
   },
   "file_extension": ".py",
   "mimetype": "text/x-python",
   "name": "python",
   "nbconvert_exporter": "python",
   "pygments_lexer": "ipython3",
   "version": "3.7.3"
  }
 },
 "nbformat": 4,
 "nbformat_minor": 2
}
