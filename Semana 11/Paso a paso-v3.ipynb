{
 "cells": [
  {
   "cell_type": "code",
   "execution_count": 1,
   "metadata": {},
   "outputs": [
    {
     "name": "stderr",
     "output_type": "stream",
     "text": [
      "Using TensorFlow backend.\n"
     ]
    }
   ],
   "source": [
    "import sys\n",
    "sys.path.append('./libs')\n",
    "import util_modelo_final\n",
    "import importlib\n",
    "\n",
    "importlib.reload(util_modelo_final)\n",
    "\n",
    "tesis2 = util_modelo_final.Tesis2(carpeta_base=\"prueba\",verbose=0)"
   ]
  },
  {
   "cell_type": "code",
   "execution_count": 2,
   "metadata": {},
   "outputs": [
    {
     "name": "stdout",
     "output_type": "stream",
     "text": [
      "WARNING:tensorflow:From /home/jose/anaconda3/lib/python3.7/site-packages/tensorflow/python/framework/op_def_library.py:263: colocate_with (from tensorflow.python.framework.ops) is deprecated and will be removed in a future version.\n",
      "Instructions for updating:\n",
      "Colocations handled automatically by placer.\n",
      "WARNING:tensorflow:From /home/jose/anaconda3/lib/python3.7/site-packages/tensorflow/python/ops/math_ops.py:3066: to_int32 (from tensorflow.python.ops.math_ops) is deprecated and will be removed in a future version.\n",
      "Instructions for updating:\n",
      "Use tf.cast instead.\n"
     ]
    }
   ],
   "source": [
    "tesis2.generar_predictor_final()"
   ]
  },
  {
   "cell_type": "code",
   "execution_count": 3,
   "metadata": {},
   "outputs": [
    {
     "data": {
      "image/png": "[encoded data removed]",
      "text/plain": [
       "<Figure size 432x288 with 1 Axes>"
      ]
     },
     "metadata": {
      "needs_background": "light"
     },
     "output_type": "display_data"
    }
   ],
   "source": [
    "reporte_clasificacion, matriz_confusion, otros = tesis2.reportar_predicciones_keras(\"./data/zea_mays_lncRNA.fa\", \"./data/zea_mays_PCT2.fa\")"
   ]
  },
  {
   "cell_type": "code",
   "execution_count": 4,
   "metadata": {},
   "outputs": [
    {
     "name": "stdout",
     "output_type": "stream",
     "text": [
      "*************************************************************************\n",
      "***************************** REPORTE FINAL *****************************\n",
      "*************************************************************************\n",
      "              precision    recall  f1-score   support\n",
      "\n",
      "      lncRNA       0.98      0.96      0.97     19796\n",
      "         PCT       0.72      0.88      0.79      2532\n",
      "\n",
      "   micro avg       0.95      0.95      0.95     22328\n",
      "   macro avg       0.85      0.92      0.88     22328\n",
      "weighted avg       0.95      0.95      0.95     22328\n",
      "\n",
      "*************************************************************************\n",
      "************************** MATRIZ DE CONFUSION **************************\n",
      "*************************************************************************\n",
      "[[18919   877]\n",
      " [  292  2240]]\n",
      "tn:18919, fp:877, fn:292, tp:2240\n",
      "tn:84.73217484772483%, fp:3.9278036546040846%, fn:1.307774991042637%, tp:10.032246506628448%\n",
      "\n",
      "*************************************************************************\n",
      "********************** PRECISION, RECALL y FSCORE ***********************\n",
      "*************************************************************************\n",
      "precisión:71.86397176772537%, recall:88.46761453396525%, fscore:79.30607187112764%\n",
      "\n",
      "*************************************************************************\n",
      "*********************** METRICAS CROSS VALIDACION ***********************\n",
      "*************************************************************************\n",
      "{'accuracy': 0.8054166666666667, 'precision': 0.8528194331441183, 'recall': 0.745}\n"
     ]
    }
   ],
   "source": [
    "tn, fp, fn, tp = matriz_confusion.ravel()\n",
    "print(\"*************************************************************************\")\n",
    "print(\"***************************** REPORTE FINAL *****************************\")\n",
    "print(\"*************************************************************************\")\n",
    "print(reporte_clasificacion)\n",
    "print(\"*************************************************************************\")\n",
    "print(\"************************** MATRIZ DE CONFUSION **************************\")\n",
    "print(\"*************************************************************************\")\n",
    "print(matriz_confusion)\n",
    "print(\"tn:{}, fp:{}, fn:{}, tp:{}\".format(tn, fp, fn, tp))\n",
    "print(\"tn:{}%, fp:{}%, fn:{}%, tp:{}%\".format(100*tn/22328, 100*fp/22328, 100*fn/22328, 100*tp/22328))\n",
    "print(\"\")\n",
    "print(\"*************************************************************************\")\n",
    "print(\"********************** PRECISION, RECALL y FSCORE ***********************\")\n",
    "print(\"*************************************************************************\")\n",
    "print(\"precisión:{}%, recall:{}%, fscore:{}%\".format(otros[0]*100,otros[1]*100,otros[2]*100))\n",
    "print(\"\")\n",
    "print(\"*************************************************************************\")\n",
    "print(\"*********************** METRICAS CROSS VALIDACION ***********************\")\n",
    "print(\"*************************************************************************\")\n",
    "tesis2.modelo_referencial_generado = False\n",
    "tesis2.modelo_final_generado = True\n",
    "print(tesis2.devolver_resultado())"
   ]
  }
 ],
 "metadata": {
  "kernelspec": {
   "display_name": "Python 3",
   "language": "python",
   "name": "python3"
  },
  "language_info": {
   "codemirror_mode": {
    "name": "ipython",
    "version": 3
   },
   "file_extension": ".py",
   "mimetype": "text/x-python",
   "name": "python",
   "nbconvert_exporter": "python",
   "pygments_lexer": "ipython3",
   "version": "3.7.3"
  }
 },
 "nbformat": 4,
 "nbformat_minor": 2
}
