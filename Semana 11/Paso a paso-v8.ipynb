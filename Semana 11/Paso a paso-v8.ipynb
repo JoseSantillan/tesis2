{
 "cells": [
  {
   "cell_type": "code",
   "execution_count": 1,
   "metadata": {},
   "outputs": [
    {
     "name": "stderr",
     "output_type": "stream",
     "text": [
      "Using TensorFlow backend.\n"
     ]
    }
   ],
   "source": [
    "import sys\n",
    "sys.path.append('./libs')\n",
    "import util_modelo_final\n",
    "import importlib\n",
    "\n",
    "importlib.reload(util_modelo_final)\n",
    "\n",
    "tesis2 = util_modelo_final.Tesis2(carpeta_base=\"real\",verbose=0)"
   ]
  },
  {
   "cell_type": "code",
   "execution_count": 2,
   "metadata": {},
   "outputs": [
    {
     "name": "stdout",
     "output_type": "stream",
     "text": [
      "WARNING:tensorflow:From /home/jose/anaconda3/lib/python3.7/site-packages/tensorflow/python/framework/op_def_library.py:263: colocate_with (from tensorflow.python.framework.ops) is deprecated and will be removed in a future version.\n",
      "Instructions for updating:\n",
      "Colocations handled automatically by placer.\n",
      "WARNING:tensorflow:From /home/jose/anaconda3/lib/python3.7/site-packages/keras/backend/tensorflow_backend.py:3445: calling dropout (from tensorflow.python.ops.nn_ops) with keep_prob is deprecated and will be removed in a future version.\n",
      "Instructions for updating:\n",
      "Please use `rate` instead of `keep_prob`. Rate should be set to `rate = 1 - keep_prob`.\n",
      "WARNING:tensorflow:From /home/jose/anaconda3/lib/python3.7/site-packages/tensorflow/python/ops/math_ops.py:3066: to_int32 (from tensorflow.python.ops.math_ops) is deprecated and will be removed in a future version.\n",
      "Instructions for updating:\n",
      "Use tf.cast instead.\n"
     ]
    }
   ],
   "source": [
    "tesis2.generar_predictor_final()"
   ]
  },
  {
   "cell_type": "code",
   "execution_count": 3,
   "metadata": {},
   "outputs": [
    {
     "data": {
      "image/png": "[encoded data removed]",
      "text/plain": [
       "<Figure size 432x288 with 1 Axes>"
      ]
     },
     "metadata": {
      "needs_background": "light"
     },
     "output_type": "display_data"
    }
   ],
   "source": [
    "reporte_clasificacion, matriz_confusion, otros = tesis2.reportar_predicciones_keras(\"./data/zea_mays_lncRNA.fa\", \"./data/zea_mays_PCT2.fa\")"
   ]
  },
  {
   "cell_type": "code",
   "execution_count": 4,
   "metadata": {},
   "outputs": [
    {
     "name": "stdout",
     "output_type": "stream",
     "text": [
      "*************************************************************************\n",
      "***************************** REPORTE FINAL *****************************\n",
      "*************************************************************************\n",
      "              precision    recall  f1-score   support\n",
      "\n",
      "      lncRNA       0.99      0.94      0.96     19796\n",
      "         PCT       0.65      0.93      0.77      2532\n",
      "\n",
      "   micro avg       0.94      0.94      0.94     22328\n",
      "   macro avg       0.82      0.93      0.86     22328\n",
      "weighted avg       0.95      0.94      0.94     22328\n",
      "\n",
      "*************************************************************************\n",
      "************************** MATRIZ DE CONFUSION **************************\n",
      "*************************************************************************\n",
      "[[18530  1266]\n",
      " [  170  2362]]\n",
      "tn:18530, fp:1266, fn:170, tp:2362\n",
      "tn:82.98996775349337%, fp:5.6700107488355425%, fn:0.7613758509494805%, tp:10.578645646721606%\n",
      "\n",
      "*************************************************************************\n",
      "********************** PRECISION, RECALL y FSCORE ***********************\n",
      "*************************************************************************\n",
      "precisión:65.10474090407938%, recall:93.28593996840442%, fscore:76.68831168831169%\n",
      "\n",
      "*************************************************************************\n",
      "*********************** METRICAS CROSS VALIDACION ***********************\n",
      "*************************************************************************\n",
      "{'accuracy': 0.8768702416418405, 'precision': 0.8271459208317163, 'recall': 0.9566948030453493}\n"
     ]
    }
   ],
   "source": [
    "tn, fp, fn, tp = matriz_confusion.ravel()\n",
    "print(\"*************************************************************************\")\n",
    "print(\"***************************** REPORTE FINAL *****************************\")\n",
    "print(\"*************************************************************************\")\n",
    "print(reporte_clasificacion)\n",
    "print(\"*************************************************************************\")\n",
    "print(\"************************** MATRIZ DE CONFUSION **************************\")\n",
    "print(\"*************************************************************************\")\n",
    "print(matriz_confusion)\n",
    "print(\"tn:{}, fp:{}, fn:{}, tp:{}\".format(tn, fp, fn, tp))\n",
    "print(\"tn:{}%, fp:{}%, fn:{}%, tp:{}%\".format(100*tn/22328, 100*fp/22328, 100*fn/22328, 100*tp/22328))\n",
    "print(\"\")\n",
    "print(\"*************************************************************************\")\n",
    "print(\"********************** PRECISION, RECALL y FSCORE ***********************\")\n",
    "print(\"*************************************************************************\")\n",
    "print(\"precisión:{}%, recall:{}%, fscore:{}%\".format(otros[0]*100,otros[1]*100,otros[2]*100))\n",
    "print(\"\")\n",
    "print(\"*************************************************************************\")\n",
    "print(\"*********************** METRICAS CROSS VALIDACION ***********************\")\n",
    "print(\"*************************************************************************\")\n",
    "tesis2.modelo_referencial_generado = False\n",
    "tesis2.modelo_final_generado = True\n",
    "print(tesis2.devolver_resultado())"
   ]
  }
 ],
 "metadata": {
  "kernelspec": {
   "display_name": "Python 3",
   "language": "python",
   "name": "python3"
  },
  "language_info": {
   "codemirror_mode": {
    "name": "ipython",
    "version": 3
   },
   "file_extension": ".py",
   "mimetype": "text/x-python",
   "name": "python",
   "nbconvert_exporter": "python",
   "pygments_lexer": "ipython3",
   "version": "3.7.3"
  }
 },
 "nbformat": 4,
 "nbformat_minor": 2
}
