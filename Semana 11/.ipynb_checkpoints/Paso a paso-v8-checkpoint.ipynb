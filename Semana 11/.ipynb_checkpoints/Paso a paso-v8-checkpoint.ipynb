{
 "cells": [
  {
   "cell_type": "code",
   "execution_count": null,
   "metadata": {},
   "outputs": [],
   "source": [
    "import sys\n",
    "sys.path.append('./libs')\n",
    "import util_modelo_final\n",
    "import importlib\n",
    "\n",
    "importlib.reload(util_modelo_final)\n",
    "\n",
    "tesis2 = util_modelo_final.Tesis2(carpeta_base=\"real\",verbose=0)"
   ]
  },
  {
   "cell_type": "code",
   "execution_count": null,
   "metadata": {},
   "outputs": [],
   "source": [
    "tesis2.generar_predictor_final()"
   ]
  },
  {
   "cell_type": "code",
   "execution_count": null,
   "metadata": {},
   "outputs": [],
   "source": [
    "reporte_clasificacion, matriz_confusion, otros = tesis2.reportar_predicciones_keras(\"./data/zea_mays_lncRNA.fa\", \"./data/zea_mays_PCT2.fa\")"
   ]
  },
  {
   "cell_type": "code",
   "execution_count": null,
   "metadata": {},
   "outputs": [],
   "source": [
    "tn, fp, fn, tp = matriz_confusion.ravel()\n",
    "print(\"*************************************************************************\")\n",
    "print(\"***************************** REPORTE FINAL *****************************\")\n",
    "print(\"*************************************************************************\")\n",
    "print(reporte_clasificacion)\n",
    "print(\"*************************************************************************\")\n",
    "print(\"************************** MATRIZ DE CONFUSION **************************\")\n",
    "print(\"*************************************************************************\")\n",
    "print(matriz_confusion)\n",
    "print(\"tn:{}, fp:{}, fn:{}, tp:{}\".format(tn, fp, fn, tp))\n",
    "print(\"tn:{}%, fp:{}%, fn:{}%, tp:{}%\".format(100*tn/22328, 100*fp/22328, 100*fn/22328, 100*tp/22328))\n",
    "print(\"\")\n",
    "print(\"*************************************************************************\")\n",
    "print(\"********************** PRECISION, RECALL y FSCORE ***********************\")\n",
    "print(\"*************************************************************************\")\n",
    "print(\"precisión:{}%, recall:{}%, fscore:{}%\".format(otros[0]*100,otros[1]*100,otros[2]*100))\n",
    "print(\"\")\n",
    "print(\"*************************************************************************\")\n",
    "print(\"*********************** METRICAS CROSS VALIDACION ***********************\")\n",
    "print(\"*************************************************************************\")\n",
    "tesis2.modelo_referencial_generado = False\n",
    "tesis2.modelo_final_generado = True\n",
    "print(tesis2.devolver_resultado())"
   ]
  }
 ],
 "metadata": {
  "kernelspec": {
   "display_name": "Python 3",
   "language": "python",
   "name": "python3"
  },
  "language_info": {
   "codemirror_mode": {
    "name": "ipython",
    "version": 3
   },
   "file_extension": ".py",
   "mimetype": "text/x-python",
   "name": "python",
   "nbconvert_exporter": "python",
   "pygments_lexer": "ipython3",
   "version": "3.7.3"
  }
 },
 "nbformat": 4,
 "nbformat_minor": 2
}
