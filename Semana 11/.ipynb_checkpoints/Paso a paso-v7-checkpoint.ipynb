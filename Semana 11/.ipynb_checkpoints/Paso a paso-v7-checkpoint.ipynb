{
 "cells": [
  {
   "cell_type": "code",
   "execution_count": null,
   "metadata": {},
   "outputs": [],
   "source": [
    "import sys\n",
    "sys.path.append('./libs')\n",
    "import util_modelo_final\n",
    "import importlib\n",
    "\n",
    "importlib.reload(util_modelo_final)\n",
    "\n",
    "batch_size = [2**10]\n",
    "epochs = [2**7]\n",
    "optimizer = ['Adam']\n",
    "learn_rate = [0.01]\n",
    "momentum = [0.0]\n",
    "init_mode = ['uniform']\n",
    "activation = ['relu']\n",
    "activation2 = ['softmax']\n",
    "dropout_rate = [0.3, 0.6, 0.9]\n",
    "weight_constraint = [2, 4]\n",
    "neurons = [10]\n",
    "hidden_layers = [1, 2]\n",
    "hidden_neurons = [10]\n",
    "tuned_parameters = [{'keras__batch_size': batch_size, 'keras__epochs': epochs, 'keras__optimizer': optimizer, 'keras__learn_rate': learn_rate, 'keras__momentum': momentum, 'keras__init_mode': init_mode, 'keras__activation': activation, 'keras__activation2': activation2, 'keras__dropout_rate': dropout_rate, 'keras__weight_constraint': weight_constraint, 'keras__neurons': neurons, 'keras__hidden_layers': hidden_layers, 'keras__hidden_neurons': hidden_neurons}]\n",
    "tesis2 = util_modelo_final.Tesis2(carpeta_base=\"real\",verbose=100,tuned_parameters=tuned_parameters)"
   ]
  },
  {
   "cell_type": "code",
   "execution_count": null,
   "metadata": {},
   "outputs": [],
   "source": [
    "import os\n",
    "os.environ['CUDA_VISIBLE_DEVICES'] = '-1'\n",
    "\n",
    "if (tesis2.verbose > 1): print(\"*************************************************\")\n",
    "if (tesis2.verbose > 1): print(\"************ Generando modelo final *************\")\n",
    "if (tesis2.verbose > 1): print(\"*************************************************\")\n",
    "%time tesis2.entrenar_modelo_final_keras()\n",
    "tesis2.modelo_final_generado = True\n",
    "if (tesis2.verbose > 1):\n",
    "    print(\"*************************************************\")\n",
    "    print(\"************* Mostrando resultados **************\")\n",
    "    print(\"*************************************************\")\n",
    "    tesis2.mostrar_resultados()"
   ]
  }
 ],
 "metadata": {
  "kernelspec": {
   "display_name": "Python 3",
   "language": "python",
   "name": "python3"
  },
  "language_info": {
   "codemirror_mode": {
    "name": "ipython",
    "version": 3
   },
   "file_extension": ".py",
   "mimetype": "text/x-python",
   "name": "python",
   "nbconvert_exporter": "python",
   "pygments_lexer": "ipython3",
   "version": "3.7.3"
  }
 },
 "nbformat": 4,
 "nbformat_minor": 2
}
