{
 "cells": [
  {
   "cell_type": "code",
   "execution_count": 15,
   "metadata": {},
   "outputs": [],
   "source": [
    "import sys\n",
    "sys.path.append('./libs')\n",
    "import util_modelo_final\n",
    "import importlib\n",
    "\n",
    "importlib.reload(util_modelo_final)\n",
    "\n",
    "tesis2 = util_modelo_final.Tesis2(carpeta_base=\"real\",verbose=0)"
   ]
  },
  {
   "cell_type": "code",
   "execution_count": 16,
   "metadata": {},
   "outputs": [],
   "source": [
    "tesis2.generar_predictor_final()"
   ]
  },
  {
   "cell_type": "code",
   "execution_count": 17,
   "metadata": {},
   "outputs": [
    {
     "data": {
      "image/png": "[encoded data removed]",
      "text/plain": [
       "<Figure size 432x288 with 1 Axes>"
      ]
     },
     "metadata": {
      "needs_background": "light"
     },
     "output_type": "display_data"
    }
   ],
   "source": [
    "reporte_clasificacion, matriz_confusion, otros = tesis2.reportar_predicciones_keras(\"./data/zea_mays_lncRNA.fa\", \"./data/zea_mays_PCT3.fa\")"
   ]
  },
  {
   "cell_type": "code",
   "execution_count": 18,
   "metadata": {},
   "outputs": [
    {
     "name": "stdout",
     "output_type": "stream",
     "text": [
      "*************************************************************************\n",
      "***************************** REPORTE FINAL *****************************\n",
      "*************************************************************************\n",
      "              precision    recall  f1-score   support\n",
      "\n",
      "         PCT       0.93      0.92      0.93      2532\n",
      "      lncRNA       0.92      0.93      0.93      2532\n",
      "\n",
      "   micro avg       0.93      0.93      0.93      5064\n",
      "   macro avg       0.93      0.93      0.93      5064\n",
      "weighted avg       0.93      0.93      0.93      5064\n",
      "\n",
      "*************************************************************************\n",
      "************************** MATRIZ DE CONFUSION **************************\n",
      "*************************************************************************\n",
      "[[2335  197]\n",
      " [ 170 2362]]\n",
      "tn:2335, fp:197, fn:170, tp:2362\n",
      "tn:46.10979462875198%, fp:3.890205371248025%, fn:3.3570300157977884%, tp:46.64296998420221%\n",
      "\n",
      "*************************************************************************\n",
      "********************** PRECISION, RECALL y FSCORE ***********************\n",
      "*************************************************************************\n",
      "precisión:92.30168034388433%, recall:93.28593996840442%, fscore:92.79120015714005%\n",
      "\n",
      "*************************************************************************\n",
      "*********************** METRICAS CROSS VALIDACION ***********************\n",
      "*************************************************************************\n",
      "{'accuracy': 0.8768702416418405, 'precision': 0.8271459208317163, 'recall': 0.9566948030453493}\n"
     ]
    }
   ],
   "source": [
    "tn, fp, fn, tp = matriz_confusion.ravel()\n",
    "print(\"*************************************************************************\")\n",
    "print(\"***************************** REPORTE FINAL *****************************\")\n",
    "print(\"*************************************************************************\")\n",
    "print(reporte_clasificacion)\n",
    "print(\"*************************************************************************\")\n",
    "print(\"************************** MATRIZ DE CONFUSION **************************\")\n",
    "print(\"*************************************************************************\")\n",
    "print(matriz_confusion)\n",
    "print(\"tn:{}, fp:{}, fn:{}, tp:{}\".format(tn, fp, fn, tp))\n",
    "print(\"tn:{}%, fp:{}%, fn:{}%, tp:{}%\".format(100*tn/5064, 100*fp/5064, 100*fn/5064, 100*tp/5064))\n",
    "print(\"\")\n",
    "print(\"*************************************************************************\")\n",
    "print(\"********************** PRECISION, RECALL y FSCORE ***********************\")\n",
    "print(\"*************************************************************************\")\n",
    "print(\"precisión:{}%, recall:{}%, fscore:{}%\".format(otros[0]*100,otros[1]*100,otros[2]*100))\n",
    "print(\"\")\n",
    "print(\"*************************************************************************\")\n",
    "print(\"*********************** METRICAS CROSS VALIDACION ***********************\")\n",
    "print(\"*************************************************************************\")\n",
    "tesis2.modelo_referencial_generado = False\n",
    "tesis2.modelo_final_generado = True\n",
    "print(tesis2.devolver_resultado())"
   ]
  }
 ],
 "metadata": {
  "kernelspec": {
   "display_name": "Python 3",
   "language": "python",
   "name": "python3"
  },
  "language_info": {
   "codemirror_mode": {
    "name": "ipython",
    "version": 3
   },
   "file_extension": ".py",
   "mimetype": "text/x-python",
   "name": "python",
   "nbconvert_exporter": "python",
   "pygments_lexer": "ipython3",
   "version": "3.7.3"
  }
 },
 "nbformat": 4,
 "nbformat_minor": 2
}
