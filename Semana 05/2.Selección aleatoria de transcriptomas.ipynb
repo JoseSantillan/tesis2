{
 "cells": [
  {
   "cell_type": "code",
   "execution_count": null,
   "metadata": {},
   "outputs": [],
   "source": [
    "%%time\n",
    "import mysql.connector\n",
    "import pandas as pd\n",
    "\n",
    "print(\"Iniciando proceso...\") \n",
    "\n",
    "conn = mysql.connector.connect(\n",
    "   host=\"localhost\",\n",
    "   database=\"tesis2\",\n",
    "   user=\"tesis2\",\n",
    "   passwd=\"tesis2\"\n",
    ")\n",
    "cursor = conn.cursor()\n",
    "query = \"UPDATE secuencias SET flg_seleccionado = NULL\"\n",
    "cursor.execute(query)\n",
    "\n",
    "query = \"SELECT id_especie FROM maestra_especies m JOIN especies_seleccionadas s ON m.especie = s.especie\"\n",
    "cursor.execute(query)\n",
    "ids = cursor.fetchall()\n",
    "for id_especie in ids:\n",
    "    print(\"\\rPCT for \" + str(id_especie[0]) + \"                                              \", end=\" \")\n",
    "    query = \"UPDATE secuencias SET flg_seleccionado = 1 WHERE id_especie = %s AND flg_pct = 1 ORDER BY RAND() LIMIT 4208\"\n",
    "    cursor.execute(query, [id_especie[0]])\n",
    "    print(\"\\rlncRNA for \" + str(id_especie[0]) + \"                                              \", end=\" \")\n",
    "    query = \"UPDATE secuencias SET flg_seleccionado = 1 WHERE id_especie = %s AND flg_pct = 0 ORDER BY RAND() LIMIT 4208\"\n",
    "    cursor.execute(query, [id_especie[0]])\n",
    "\n",
    "print(\"\\rProceso terminado...                                                                                  \\n\") \n",
    "    \n",
    "print(\"SELECCIONADOS\")\n",
    "df = pd.read_sql_query(\"SELECT m.especie, SUM(CASE WHEN s.flg_pct = 1 THEN 1 ELSE 0 END) AS PCT, SUM(CASE WHEN s.flg_pct = 0 THEN 1 ELSE 0 END) AS lncRNA FROM secuencias s JOIN maestra_especies m ON s.id_especie = m.id_especie WHERE flg_seleccionado = 1 GROUP BY m.especie ORDER BY 1 DESC\", conn)\n",
    "display(df)\n",
    "\n",
    "print(\"NO SE USARAN EN EL MODELO\")\n",
    "df = pd.read_sql_query(\"SELECT m.especie, SUM(CASE WHEN s.flg_pct = 1 THEN 1 ELSE 0 END) AS PCT, SUM(CASE WHEN s.flg_pct = 0 THEN 1 ELSE 0 END) AS lncRNA FROM secuencias s JOIN maestra_especies m ON s.id_especie = m.id_especie WHERE flg_seleccionado IS NULL OR flg_seleccionado = 0 GROUP BY m.especie ORDER BY 1 DESC\", conn)\n",
    "display(df)\n",
    "    \n",
    "conn.close()"
   ]
  }
 ],
 "metadata": {
  "kernelspec": {
   "display_name": "Python 3",
   "language": "python",
   "name": "python3"
  },
  "language_info": {
   "codemirror_mode": {
    "name": "ipython",
    "version": 3
   },
   "file_extension": ".py",
   "mimetype": "text/x-python",
   "name": "python",
   "nbconvert_exporter": "python",
   "pygments_lexer": "ipython3",
   "version": "3.7.3"
  }
 },
 "nbformat": 4,
 "nbformat_minor": 2
}
