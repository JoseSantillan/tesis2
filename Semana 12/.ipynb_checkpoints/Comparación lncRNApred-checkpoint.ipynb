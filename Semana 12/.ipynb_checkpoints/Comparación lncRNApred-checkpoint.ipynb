{
 "cells": [
  {
   "cell_type": "code",
   "execution_count": 3,
   "metadata": {},
   "outputs": [
    {
     "ename": "FileNotFoundError",
     "evalue": "[Errno 2] No such file or directory: './lncRNApred/results/final_ensemble_predictions.csv'",
     "output_type": "error",
     "traceback": [
      "\u001b[0;31m---------------------------------------------------------------------------\u001b[0m",
      "\u001b[0;31mFileNotFoundError\u001b[0m                         Traceback (most recent call last)",
      "\u001b[0;32m<ipython-input-3-a5a4f67d154d>\u001b[0m in \u001b[0;36m<module>\u001b[0;34m\u001b[0m\n\u001b[1;32m     71\u001b[0m \u001b[0;34m\u001b[0m\u001b[0m\n\u001b[1;32m     72\u001b[0m \u001b[0;32mfor\u001b[0m \u001b[0mrow_especie\u001b[0m \u001b[0;32min\u001b[0m \u001b[0mobtener_especies\u001b[0m\u001b[0;34m(\u001b[0m\u001b[0;34m)\u001b[0m\u001b[0;34m:\u001b[0m\u001b[0;34m\u001b[0m\u001b[0;34m\u001b[0m\u001b[0m\n\u001b[0;32m---> 73\u001b[0;31m     \u001b[0mresultados_especie\u001b[0m\u001b[0;34m(\u001b[0m\u001b[0mrow_especie\u001b[0m\u001b[0;34m)\u001b[0m\u001b[0;34m\u001b[0m\u001b[0;34m\u001b[0m\u001b[0m\n\u001b[0m\u001b[1;32m     74\u001b[0m \u001b[0;34m\u001b[0m\u001b[0m\n\u001b[1;32m     75\u001b[0m \u001b[0mprint\u001b[0m\u001b[0;34m(\u001b[0m\u001b[0;34m\"Proceso finalizado\"\u001b[0m\u001b[0;34m)\u001b[0m\u001b[0;34m\u001b[0m\u001b[0;34m\u001b[0m\u001b[0m\n",
      "\u001b[0;32m<ipython-input-3-a5a4f67d154d>\u001b[0m in \u001b[0;36mresultados_especie\u001b[0;34m(row_especie)\u001b[0m\n\u001b[1;32m     68\u001b[0m     \u001b[0mgenerar_fasta_especie\u001b[0m\u001b[0;34m(\u001b[0m\u001b[0mrow_especie\u001b[0m\u001b[0;34m)\u001b[0m\u001b[0;34m\u001b[0m\u001b[0;34m\u001b[0m\u001b[0m\n\u001b[1;32m     69\u001b[0m     \u001b[0mejecutar_scripts\u001b[0m\u001b[0;34m(\u001b[0m\u001b[0;34m)\u001b[0m\u001b[0;34m\u001b[0m\u001b[0;34m\u001b[0m\u001b[0m\n\u001b[0;32m---> 70\u001b[0;31m     \u001b[0mobtener_resultados\u001b[0m\u001b[0;34m(\u001b[0m\u001b[0mrow_especie\u001b[0m\u001b[0;34m[\u001b[0m\u001b[0;36m0\u001b[0m\u001b[0;34m]\u001b[0m\u001b[0;34m)\u001b[0m\u001b[0;34m\u001b[0m\u001b[0;34m\u001b[0m\u001b[0m\n\u001b[0m\u001b[1;32m     71\u001b[0m \u001b[0;34m\u001b[0m\u001b[0m\n\u001b[1;32m     72\u001b[0m \u001b[0;32mfor\u001b[0m \u001b[0mrow_especie\u001b[0m \u001b[0;32min\u001b[0m \u001b[0mobtener_especies\u001b[0m\u001b[0;34m(\u001b[0m\u001b[0;34m)\u001b[0m\u001b[0;34m:\u001b[0m\u001b[0;34m\u001b[0m\u001b[0;34m\u001b[0m\u001b[0m\n",
      "\u001b[0;32m<ipython-input-3-a5a4f67d154d>\u001b[0m in \u001b[0;36mobtener_resultados\u001b[0;34m(num_especie)\u001b[0m\n\u001b[1;32m     53\u001b[0m     \u001b[0my_true\u001b[0m \u001b[0;34m=\u001b[0m \u001b[0mlist\u001b[0m\u001b[0;34m(\u001b[0m\u001b[0;34m)\u001b[0m\u001b[0;34m\u001b[0m\u001b[0;34m\u001b[0m\u001b[0m\n\u001b[1;32m     54\u001b[0m     \u001b[0my_pred\u001b[0m \u001b[0;34m=\u001b[0m \u001b[0mlist\u001b[0m\u001b[0;34m(\u001b[0m\u001b[0;34m)\u001b[0m\u001b[0;34m\u001b[0m\u001b[0;34m\u001b[0m\u001b[0m\n\u001b[0;32m---> 55\u001b[0;31m     \u001b[0;32mwith\u001b[0m \u001b[0mopen\u001b[0m\u001b[0;34m(\u001b[0m\u001b[0;34m\"./lncRNApred/results/final_ensemble_predictions.csv\"\u001b[0m\u001b[0;34m,\u001b[0m \u001b[0;34m\"r\"\u001b[0m\u001b[0;34m)\u001b[0m \u001b[0;32mas\u001b[0m \u001b[0moutfile\u001b[0m\u001b[0;34m:\u001b[0m\u001b[0;34m\u001b[0m\u001b[0;34m\u001b[0m\u001b[0m\n\u001b[0m\u001b[1;32m     56\u001b[0m         \u001b[0mcsv_reader\u001b[0m \u001b[0;34m=\u001b[0m \u001b[0mcsv\u001b[0m\u001b[0;34m.\u001b[0m\u001b[0mreader\u001b[0m\u001b[0;34m(\u001b[0m\u001b[0moutfile\u001b[0m\u001b[0;34m,\u001b[0m \u001b[0mdelimiter\u001b[0m\u001b[0;34m=\u001b[0m\u001b[0;34m(\u001b[0m\u001b[0;34m\",\"\u001b[0m\u001b[0;34m)\u001b[0m\u001b[0;34m)\u001b[0m\u001b[0;34m\u001b[0m\u001b[0;34m\u001b[0m\u001b[0m\n\u001b[1;32m     57\u001b[0m         \u001b[0mnext\u001b[0m\u001b[0;34m(\u001b[0m\u001b[0mcsv_reader\u001b[0m\u001b[0;34m,\u001b[0m \u001b[0;32mNone\u001b[0m\u001b[0;34m)\u001b[0m \u001b[0;31m# skip header\u001b[0m\u001b[0;34m\u001b[0m\u001b[0;34m\u001b[0m\u001b[0m\n",
      "\u001b[0;31mFileNotFoundError\u001b[0m: [Errno 2] No such file or directory: './lncRNApred/results/final_ensemble_predictions.csv'"
     ]
    }
   ],
   "source": [
    "#Generación de archivos fasta para las 30 especies\n",
    "import sys\n",
    "sys.path.append('./libs')\n",
    "import util_bd, util_fasta, util_caracteristicas\n",
    "import os\n",
    "import shutil\n",
    "from sklearn.externals.joblib import Parallel, delayed, dump\n",
    "from sklearn.metrics import accuracy_score\n",
    "import csv\n",
    "\n",
    "#generación de bd diamond\n",
    "#script = \"~/anaconda3/bin/diamond blastx -d ./lncRNApred/data/swissprot.dmnd -q ./lncRNApred/data/transcritos.fa -o ./lncRNApred/data/transcritos.dmnd -e 0.001 -k 5 --matrix BLOSUM62 --gapopen 11 --gapextend 1 --more-sensitive -f 6 qseqid pident length qframe qstart qend sstart send evalue bitscore\"\n",
    "#os.system(script)\n",
    "\n",
    "def obtener_especies():\n",
    "    query = \"SELECT * FROM (SELECT CONVERT(@row_number:=@row_number + 1, UNSIGNED) AS orden, m.id_especie, m.especie FROM especies_seleccionadas s JOIN maestra_especies m ON s.especie = m.especie, (SELECT @row_number:=0) AS rn ORDER BY m.id_especie) a ORDER BY 1 LIMIT 1\"\n",
    "    return util_bd.resultados_query(query)\n",
    "        \n",
    "def generar_fasta_especie(row_especie):\n",
    "    # lncRNA\n",
    "    query = \"SELECT cod_secuencia, secuencia FROM secuencias WHERE flg_pct = 0 AND flg_seleccionado = 1 AND id_especie = \" + str(row_especie[1]) + \" ORDER BY cod_secuencia\"\n",
    "    secuencias = util_bd.resultados_query(query)\n",
    "    util_fasta.generar_fasta(secuencias, \"./lncRNApred/data/lncRNA.fa\")\n",
    "    # PCT\n",
    "    query = \"SELECT cod_secuencia, secuencia FROM secuencias WHERE flg_pct = 1 AND flg_seleccionado = 1 AND id_especie = \" + str(row_especie[1]) + \" ORDER BY cod_secuencia\"\n",
    "    secuencias = util_bd.resultados_query(query)\n",
    "    util_fasta.generar_fasta(secuencias, \"./lncRNApred/data/PCT.fa\")\n",
    "    # CDS\n",
    "    query = \"SELECT f.cod_secuencia, cds.coding FROM secuencias_CDS cds JOIN secuencias_features f ON cds.id_especie = f.id_especie AND cds.cod_secuencia = f.cod_secuencia WHERE f.flg_pct = 1 AND f.flg_seleccionado = 1 AND f.id_especie = \" + str(row_especie[1]) + \" ORDER BY f.cod_secuencia\"\n",
    "    secuencias = util_bd.resultados_query(query)\n",
    "    util_fasta.generar_fasta(secuencias, \"./lncRNApred/data/CDS.fa\")\n",
    "    # lncRNA+PCT\n",
    "    query = \"SELECT cod_secuencia, secuencia FROM secuencias WHERE flg_seleccionado = 1 AND id_especie = \" + str(row_especie[1]) + \" ORDER BY flg_pct ASC, cod_secuencia\"\n",
    "    secuencias = util_bd.resultados_query(query)\n",
    "    util_fasta.generar_fasta(secuencias, \"./lncRNApred/data/transcritos.fa\")\n",
    "\n",
    "def ejecutar_scripts():\n",
    "    #diamond\n",
    "    script = \"~/anaconda3/bin/diamond makedb --in ./lncRNApred/data/uniprot_sprot.fasta -d ./lncRNApred/data/swissprot.dmnd\"\n",
    "    os.system(script)\n",
    "    #cpat\n",
    "    script = \"~/anaconda3/bin/cpat.py -g ./lncRNApred/data/transcritos.fa -o ./lncRNApred/data/transcritos.cpat -x ./lncRNApred/crema/cpat_models/ath_hexamer.txt -d ./lncRNApred/crema/cpat_models/ath_logit.RData\"\n",
    "    os.system(script)\n",
    "    os.chdir('./lncRNApred/results/')\n",
    "    #lncRNApred\n",
    "    script = \"python3 ../crema/bin/predict.py -f ../data/transcritos.fa -c ../data/transcritos.cpat -d ../data/transcritos.dmnd\"\n",
    "    os.system(script)\n",
    "    os.chdir('../../')\n",
    "\n",
    "def obtener_resultados(num_especie):\n",
    "    transcritos_lncRNA = util_fasta.leer_fasta(\"./lncRNApred/data/lncRNA.fa\")\n",
    "    transcritos_PCT = util_fasta.leer_fasta(\"./lncRNApred/data/PCT.fa\")\n",
    "    y_true = list()\n",
    "    y_pred = list()\n",
    "    with open(\"./lncRNApred/results/final_ensemble_predictions.csv\", \"r\") as outfile:\n",
    "        csv_reader = csv.reader(outfile, delimiter=(\",\"))\n",
    "        next(csv_reader, None) # skip header\n",
    "        for row in csv_reader:\n",
    "            if row[0].upper() in transcritos_lncRNA:\n",
    "                y_true.append(1)\n",
    "            if row[0].upper() in transcritos_PCT:\n",
    "                y_true.append(0)\n",
    "            y_pred.append(int(row[11]))\n",
    "    print(\"ESPECIE \" + str(num_especie) + \": \" + str(accuracy_score(y_true, y_pred)))\n",
    "    \n",
    "    \n",
    "def resultados_especie(row_especie):\n",
    "    generar_fasta_especie(row_especie)\n",
    "    ejecutar_scripts()\n",
    "    obtener_resultados(row_especie[0])\n",
    "    \n",
    "for row_especie in obtener_especies():\n",
    "    resultados_especie(row_especie)\n",
    "\n",
    "print(\"Proceso finalizado\")"
   ]
  },
  {
   "cell_type": "code",
   "execution_count": null,
   "metadata": {
    "collapsed": true
   },
   "outputs": [],
   "source": []
  }
 ],
 "metadata": {
  "kernelspec": {
   "display_name": "Python 3",
   "language": "python",
   "name": "python3"
  },
  "language_info": {
   "codemirror_mode": {
    "name": "ipython",
    "version": 3
   },
   "file_extension": ".py",
   "mimetype": "text/x-python",
   "name": "python",
   "nbconvert_exporter": "python",
   "pygments_lexer": "ipython3",
   "version": "3.7.3"
  }
 },
 "nbformat": 4,
 "nbformat_minor": 2
}
