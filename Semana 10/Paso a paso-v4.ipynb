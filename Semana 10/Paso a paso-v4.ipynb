{
 "cells": [
  {
   "cell_type": "code",
   "execution_count": 1,
   "metadata": {},
   "outputs": [],
   "source": [
    "import sys\n",
    "sys.path.append('./libs')\n",
    "import util_modelo_final\n",
    "import importlib\n",
    "\n",
    "importlib.reload(util_modelo_final)\n",
    "\n",
    "tesis2 = util_modelo_final.Tesis2(carpeta_base=\"prueba\",verbose=0)"
   ]
  },
  {
   "cell_type": "code",
   "execution_count": 2,
   "metadata": {},
   "outputs": [],
   "source": [
    "tesis2.generar_predictor_final()"
   ]
  },
  {
   "cell_type": "code",
   "execution_count": 3,
   "metadata": {},
   "outputs": [
    {
     "data": {
      "image/png": "[encoded data removed]",
      "text/plain": [
       "<Figure size 432x288 with 1 Axes>"
      ]
     },
     "metadata": {
      "needs_background": "light"
     },
     "output_type": "display_data"
    }
   ],
   "source": [
    "reporte_clasificacion, matriz_confusion, otros = tesis2.reportar_predicciones(\"./data/zea_mays_lncRNA.fa\", \"./data/zea_mays_PCT2.fa\")"
   ]
  },
  {
   "cell_type": "code",
   "execution_count": 6,
   "metadata": {},
   "outputs": [
    {
     "name": "stdout",
     "output_type": "stream",
     "text": [
      "*************************************************************************\n",
      "***************************** REPORTE FINAL *****************************\n",
      "*************************************************************************\n",
      "              precision    recall  f1-score   support\n",
      "\n",
      "      lncRNA       0.99      0.91      0.95     19796\n",
      "         PCT       0.58      0.93      0.72      2532\n",
      "\n",
      "   micro avg       0.92      0.92      0.92     22328\n",
      "   macro avg       0.79      0.92      0.83     22328\n",
      "weighted avg       0.94      0.92      0.92     22328\n",
      "\n",
      "*************************************************************************\n",
      "************************** MATRIZ DE CONFUSION **************************\n",
      "*************************************************************************\n",
      "[[18112  1684]\n",
      " [  182  2350]]\n",
      "tn:18112, fp:1684, fn:182, tp:2350\n",
      "tn:81.11787889645288%, fp:7.54209960587603%, fn:0.8151200286635615%, tp:10.524901469007524%\n",
      "\n",
      "*************************************************************************\n",
      "********************** PRECISION, RECALL y FSCORE ***********************\n",
      "*************************************************************************\n",
      "precisión:58.254833911750126%, recall:92.81200631911533%, fscore:71.58087115443192%\n",
      "\n",
      "*************************************************************************\n",
      "*********************** METRICAS CROSS VALIDACION ***********************\n",
      "*************************************************************************\n",
      "{'accuracy': 0.8066666666666666, 'precision': 0.7592590198311532, 'recall': 0.9133333333333333}\n",
      "\n",
      "*************************************************************************\n",
      "***************** METRICAS CONTRA MODELOS REFERENCIALES *****************\n",
      "*************************************************************************\n",
      "***************\n",
      "*** CLASE 1 ***\n",
      "***************\n",
      "Accuracy modelo referencial: 78.9%\n",
      "Accuracy modelo final: 71.5%\n",
      "\n",
      "***************\n",
      "*** CLASE 2 ***\n",
      "***************\n",
      "Accuracy modelo referencial: 77.6%\n",
      "Accuracy modelo final: 77.1%\n",
      "\n",
      "***************\n",
      "*** CLASE 3 ***\n",
      "***************\n",
      "Accuracy modelo referencial: 89.5%\n",
      "Accuracy modelo final: 93.4%\n",
      "\n",
      "********************\n",
      "*** MODELO FINAL ***\n",
      "********************\n",
      "Accuracy modelo final: 80.7%\n",
      "\n"
     ]
    }
   ],
   "source": [
    "tn, fp, fn, tp = matriz_confusion.ravel()\n",
    "print(\"*************************************************************************\")\n",
    "print(\"***************************** REPORTE FINAL *****************************\")\n",
    "print(\"*************************************************************************\")\n",
    "print(reporte_clasificacion)\n",
    "print(\"*************************************************************************\")\n",
    "print(\"************************** MATRIZ DE CONFUSION **************************\")\n",
    "print(\"*************************************************************************\")\n",
    "print(matriz_confusion)\n",
    "print(\"tn:{}, fp:{}, fn:{}, tp:{}\".format(tn, fp, fn, tp))\n",
    "print(\"tn:{}%, fp:{}%, fn:{}%, tp:{}%\".format(100*tn/22328, 100*fp/22328, 100*fn/22328, 100*tp/22328))\n",
    "print(\"\")\n",
    "print(\"*************************************************************************\")\n",
    "print(\"********************** PRECISION, RECALL y FSCORE ***********************\")\n",
    "print(\"*************************************************************************\")\n",
    "print(\"precisión:{}%, recall:{}%, fscore:{}%\".format(otros[0]*100,otros[1]*100,otros[2]*100))\n",
    "print(\"\")\n",
    "print(\"*************************************************************************\")\n",
    "print(\"*********************** METRICAS CROSS VALIDACION ***********************\")\n",
    "print(\"*************************************************************************\")\n",
    "tesis2.modelo_referencial_generado = True\n",
    "tesis2.modelo_final_generado = True\n",
    "print(tesis2.devolver_resultado())\n",
    "print(\"\")\n",
    "print(\"*************************************************************************\")\n",
    "print(\"***************** METRICAS CONTRA MODELOS REFERENCIALES *****************\")\n",
    "print(\"*************************************************************************\")\n",
    "tesis2.mostrar_resultados_referencial_vs_final()"
   ]
  }
 ],
 "metadata": {
  "kernelspec": {
   "display_name": "Python 3",
   "language": "python",
   "name": "python3"
  },
  "language_info": {
   "codemirror_mode": {
    "name": "ipython",
    "version": 3
   },
   "file_extension": ".py",
   "mimetype": "text/x-python",
   "name": "python",
   "nbconvert_exporter": "python",
   "pygments_lexer": "ipython3",
   "version": "3.7.3"
  }
 },
 "nbformat": 4,
 "nbformat_minor": 2
}
