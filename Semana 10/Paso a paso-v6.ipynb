{
 "cells": [
  {
   "cell_type": "code",
   "execution_count": 1,
   "metadata": {},
   "outputs": [],
   "source": [
    "import sys\n",
    "sys.path.append('./libs')\n",
    "import util_modelo_final\n",
    "import importlib\n",
    "\n",
    "importlib.reload(util_modelo_final)\n",
    "\n",
    "tesis2 = util_modelo_final.Tesis2(carpeta_base=\"prueba\",verbose=0)\n",
    "\n",
    "cantidad_especies = 30\n",
    "cantidad_especies = 3\n",
    "cantidad_transcritos = 4028\n",
    "cantidad_transcritos = 400"
   ]
  },
  {
   "cell_type": "code",
   "execution_count": 2,
   "metadata": {
    "scrolled": true
   },
   "outputs": [
    {
     "name": "stdout",
     "output_type": "stream",
     "text": [
      "CPU times: user 49.4 ms, sys: 16.1 ms, total: 65.5 ms\n",
      "Wall time: 72.5 ms\n",
      "CPU times: user 38.9 ms, sys: 36 ms, total: 74.9 ms\n",
      "Wall time: 6.36 s\n",
      "Proceso finalizado\n"
     ]
    }
   ],
   "source": [
    "#Generación de archivos fasta para las 30 especies\n",
    "import sys\n",
    "sys.path.append('./libs')\n",
    "import util_bd, util_fasta\n",
    "import os\n",
    "import shutil\n",
    "from sklearn.externals.joblib import Parallel, delayed, dump\n",
    "\n",
    "def obtener_especies():\n",
    "    query = \"SELECT * FROM (SELECT CONVERT(@row_number:=@row_number + 1, UNSIGNED) AS orden, m.id_especie, m.especie FROM especies_seleccionadas s JOIN maestra_especies m ON s.especie = m.especie, (SELECT @row_number:=0) AS rn ORDER BY m.id_especie) a ORDER BY 1 LIMIT \" + str(cantidad_especies)\n",
    "    return util_bd.resultados_query(query)\n",
    "        \n",
    "def generar_fasta_especie(tesis2, row_especie):\n",
    "    os.mkdir(tesis2.carpeta_data() + \"/clase_\" + str(row_especie[0]))\n",
    "    # lncRNA\n",
    "    query = \"SELECT cod_secuencia, secuencia FROM secuencias WHERE flg_pct = 0 AND flg_seleccionado = 1 AND id_especie = \" + str(row_especie[1]) + \" ORDER BY cod_secuencia LIMIT \" + str(cantidad_transcritos)\n",
    "    secuencias = util_bd.resultados_query(query)\n",
    "    util_fasta.generar_fasta(secuencias, tesis2.carpeta_data() + \"/clase_\" + str(row_especie[0]) + \"/lncRNA.fa\")\n",
    "    # PCT\n",
    "    query = \"SELECT cod_secuencia, secuencia FROM secuencias WHERE flg_pct = 1 AND flg_seleccionado = 1 AND id_especie = \" + str(row_especie[1]) + \" ORDER BY cod_secuencia LIMIT \" + str(cantidad_transcritos)\n",
    "    secuencias = util_bd.resultados_query(query)\n",
    "    util_fasta.generar_fasta(secuencias, tesis2.carpeta_data() + \"/clase_\" + str(row_especie[0]) + \"/PCT.fa\")\n",
    "    # CDS\n",
    "    query = \"SELECT f.cod_secuencia, cds.coding FROM secuencias_CDS cds JOIN secuencias_features f ON cds.id_especie = f.id_especie AND cds.cod_secuencia = f.cod_secuencia WHERE f.flg_pct = 1 AND f.flg_seleccionado = 1 AND f.id_especie = \" + str(row_especie[1]) + \" ORDER BY f.cod_secuencia LIMIT \" + str(cantidad_transcritos)\n",
    "    secuencias = util_bd.resultados_query(query)\n",
    "    util_fasta.generar_fasta(secuencias, tesis2.carpeta_data() + \"/clase_\" + str(row_especie[0]) + \"/CDS.fa\")\n",
    "\n",
    "if os.path.isdir(tesis2.carpeta_data()):\n",
    "    shutil.rmtree(tesis2.carpeta_data())\n",
    "os.mkdir(tesis2.carpeta_data())\n",
    "\n",
    "%time dump(obtener_especies(), tesis2.carpeta_data() + \"/info_clases.bin\")\n",
    "%time Parallel(n_jobs=tesis2.n_jobs, verbose=tesis2.verbose)(delayed(generar_fasta_especie)(tesis2, row_especie) for row_especie in obtener_especies())\n",
    "\n",
    "print(\"Proceso finalizado\")"
   ]
  },
  {
   "cell_type": "code",
   "execution_count": 3,
   "metadata": {},
   "outputs": [
    {
     "name": "stdout",
     "output_type": "stream",
     "text": [
      "CPU times: user 1.19 s, sys: 49.2 ms, total: 1.24 s\n",
      "Wall time: 1min 20s\n"
     ]
    }
   ],
   "source": [
    "%time tesis2.generar_modelo_final()"
   ]
  },
  {
   "cell_type": "code",
   "execution_count": 4,
   "metadata": {},
   "outputs": [
    {
     "name": "stdout",
     "output_type": "stream",
     "text": [
      "CPU times: user 5.21 ms, sys: 8.13 ms, total: 13.3 ms\n",
      "Wall time: 3min 18s\n"
     ]
    }
   ],
   "source": [
    "%time tesis2.generar_modelos_referenciales()"
   ]
  },
  {
   "cell_type": "code",
   "execution_count": 5,
   "metadata": {},
   "outputs": [
    {
     "name": "stdout",
     "output_type": "stream",
     "text": [
      "***************\n",
      "*** CLASE 1 ***\n",
      "***************\n",
      "Accuracy modelo referencial: 78.9%\n",
      "Accuracy modelo final: 71.5%\n",
      "\n",
      "***************\n",
      "*** CLASE 2 ***\n",
      "***************\n",
      "Accuracy modelo referencial: 77.6%\n",
      "Accuracy modelo final: 77.1%\n",
      "\n",
      "***************\n",
      "*** CLASE 3 ***\n",
      "***************\n",
      "Accuracy modelo referencial: 89.5%\n",
      "Accuracy modelo final: 93.4%\n",
      "\n",
      "********************\n",
      "*** MODELO FINAL ***\n",
      "********************\n",
      "Accuracy modelo final: 80.7%\n",
      "\n",
      "CPU times: user 10.6 ms, sys: 173 µs, total: 10.7 ms\n",
      "Wall time: 12.1 ms\n"
     ]
    }
   ],
   "source": [
    "%time tesis2.mostrar_resultados_referencial_vs_final()"
   ]
  }
 ],
 "metadata": {
  "kernelspec": {
   "display_name": "Python 3",
   "language": "python",
   "name": "python3"
  },
  "language_info": {
   "codemirror_mode": {
    "name": "ipython",
    "version": 3
   },
   "file_extension": ".py",
   "mimetype": "text/x-python",
   "name": "python",
   "nbconvert_exporter": "python",
   "pygments_lexer": "ipython3",
   "version": "3.7.3"
  }
 },
 "nbformat": 4,
 "nbformat_minor": 2
}
