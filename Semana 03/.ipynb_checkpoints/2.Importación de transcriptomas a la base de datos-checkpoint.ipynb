{
 "cells": [
  {
   "cell_type": "markdown",
   "metadata": {},
   "source": [
    "En esta sección se transferirán a tablas los transcriptomas de las especies seleccionadas.<br>\n",
    "Esto requerirá seleccionar aleatoriamente los mismos a partir de los archivos fasta.<br>\n",
    "Como primer paso, pasaremos todas las secuencias a la base de datos.<br>\n",
    "Iniciamos con los PTCs (casos negativos) en Ensembl. Nos interesan solamente las especies que también existen en CantataDB o GreeNC."
   ]
  },
  {
   "cell_type": "code",
   "execution_count": 1,
   "metadata": {},
   "outputs": [],
   "source": [
    "%load_ext rpy2.ipython"
   ]
  },
  {
   "cell_type": "code",
   "execution_count": 46,
   "metadata": {},
   "outputs": [
    {
     "name": "stdout",
     "output_type": "stream",
     "text": [
      "\n",
      "Error in .local(drv, ...) : \n",
      "  Cannot allocate a new connection: 16 connections already opened\n"
     ]
    },
    {
     "ename": "PermissionError",
     "evalue": "[WinError 32] El proceso no tiene acceso al archivo porque está siendo utilizado por otro proceso: 'C:\\\\Users\\\\JoseLuis\\\\AppData\\\\Local\\\\Temp\\\\tmpj5_sehz1\\\\Rplots001.png'",
     "output_type": "error",
     "traceback": [
      "\u001b[1;31m---------------------------------------------------------------------------\u001b[0m",
      "\u001b[1;31mRRuntimeError\u001b[0m                             Traceback (most recent call last)",
      "\u001b[1;32m~\\Anaconda3\\lib\\site-packages\\rpy2-2.9.4-py3.6-win-amd64.egg\\rpy2\\ipython\\rmagic.py\u001b[0m in \u001b[0;36meval\u001b[1;34m(self, code)\u001b[0m\n\u001b[0;32m    253\u001b[0m             \u001b[1;31m# Need the newline in case the last line in code is a comment\u001b[0m\u001b[1;33m\u001b[0m\u001b[1;33m\u001b[0m\u001b[1;33m\u001b[0m\u001b[0m\n\u001b[1;32m--> 254\u001b[1;33m             \u001b[0mvalue\u001b[0m\u001b[1;33m,\u001b[0m \u001b[0mvisible\u001b[0m \u001b[1;33m=\u001b[0m \u001b[0mro\u001b[0m\u001b[1;33m.\u001b[0m\u001b[0mr\u001b[0m\u001b[1;33m(\u001b[0m\u001b[1;34m\"withVisible({%s\\n})\"\u001b[0m \u001b[1;33m%\u001b[0m \u001b[0mcode\u001b[0m\u001b[1;33m)\u001b[0m\u001b[1;33m\u001b[0m\u001b[1;33m\u001b[0m\u001b[0m\n\u001b[0m\u001b[0;32m    255\u001b[0m         \u001b[1;32mexcept\u001b[0m \u001b[1;33m(\u001b[0m\u001b[0mri\u001b[0m\u001b[1;33m.\u001b[0m\u001b[0mRRuntimeError\u001b[0m\u001b[1;33m,\u001b[0m \u001b[0mValueError\u001b[0m\u001b[1;33m)\u001b[0m \u001b[1;32mas\u001b[0m \u001b[0mexception\u001b[0m\u001b[1;33m:\u001b[0m\u001b[1;33m\u001b[0m\u001b[1;33m\u001b[0m\u001b[0m\n",
      "\u001b[1;32m~\\Anaconda3\\lib\\site-packages\\rpy2-2.9.4-py3.6-win-amd64.egg\\rpy2\\robjects\\__init__.py\u001b[0m in \u001b[0;36m__call__\u001b[1;34m(self, string)\u001b[0m\n\u001b[0;32m    351\u001b[0m         \u001b[0mp\u001b[0m \u001b[1;33m=\u001b[0m \u001b[0m_rparse\u001b[0m\u001b[1;33m(\u001b[0m\u001b[0mtext\u001b[0m\u001b[1;33m=\u001b[0m\u001b[0mStrSexpVector\u001b[0m\u001b[1;33m(\u001b[0m\u001b[1;33m(\u001b[0m\u001b[0mstring\u001b[0m\u001b[1;33m,\u001b[0m\u001b[1;33m)\u001b[0m\u001b[1;33m)\u001b[0m\u001b[1;33m)\u001b[0m\u001b[1;33m\u001b[0m\u001b[1;33m\u001b[0m\u001b[0m\n\u001b[1;32m--> 352\u001b[1;33m         \u001b[0mres\u001b[0m \u001b[1;33m=\u001b[0m \u001b[0mself\u001b[0m\u001b[1;33m.\u001b[0m\u001b[0meval\u001b[0m\u001b[1;33m(\u001b[0m\u001b[0mp\u001b[0m\u001b[1;33m)\u001b[0m\u001b[1;33m\u001b[0m\u001b[1;33m\u001b[0m\u001b[0m\n\u001b[0m\u001b[0;32m    353\u001b[0m         \u001b[1;32mreturn\u001b[0m \u001b[0mconversion\u001b[0m\u001b[1;33m.\u001b[0m\u001b[0mri2py\u001b[0m\u001b[1;33m(\u001b[0m\u001b[0mres\u001b[0m\u001b[1;33m)\u001b[0m\u001b[1;33m\u001b[0m\u001b[1;33m\u001b[0m\u001b[0m\n",
      "\u001b[1;32m~\\Anaconda3\\lib\\site-packages\\rpy2-2.9.4-py3.6-win-amd64.egg\\rpy2\\robjects\\functions.py\u001b[0m in \u001b[0;36m__call__\u001b[1;34m(self, *args, **kwargs)\u001b[0m\n\u001b[0;32m    177\u001b[0m                 \u001b[0mkwargs\u001b[0m\u001b[1;33m[\u001b[0m\u001b[0mr_k\u001b[0m\u001b[1;33m]\u001b[0m \u001b[1;33m=\u001b[0m \u001b[0mv\u001b[0m\u001b[1;33m\u001b[0m\u001b[1;33m\u001b[0m\u001b[0m\n\u001b[1;32m--> 178\u001b[1;33m         \u001b[1;32mreturn\u001b[0m \u001b[0msuper\u001b[0m\u001b[1;33m(\u001b[0m\u001b[0mSignatureTranslatedFunction\u001b[0m\u001b[1;33m,\u001b[0m \u001b[0mself\u001b[0m\u001b[1;33m)\u001b[0m\u001b[1;33m.\u001b[0m\u001b[0m__call__\u001b[0m\u001b[1;33m(\u001b[0m\u001b[1;33m*\u001b[0m\u001b[0margs\u001b[0m\u001b[1;33m,\u001b[0m \u001b[1;33m**\u001b[0m\u001b[0mkwargs\u001b[0m\u001b[1;33m)\u001b[0m\u001b[1;33m\u001b[0m\u001b[1;33m\u001b[0m\u001b[0m\n\u001b[0m\u001b[0;32m    179\u001b[0m \u001b[1;33m\u001b[0m\u001b[0m\n",
      "\u001b[1;32m~\\Anaconda3\\lib\\site-packages\\rpy2-2.9.4-py3.6-win-amd64.egg\\rpy2\\robjects\\functions.py\u001b[0m in \u001b[0;36m__call__\u001b[1;34m(self, *args, **kwargs)\u001b[0m\n\u001b[0;32m    105\u001b[0m             \u001b[0mnew_kwargs\u001b[0m\u001b[1;33m[\u001b[0m\u001b[0mk\u001b[0m\u001b[1;33m]\u001b[0m \u001b[1;33m=\u001b[0m \u001b[0mconversion\u001b[0m\u001b[1;33m.\u001b[0m\u001b[0mpy2ri\u001b[0m\u001b[1;33m(\u001b[0m\u001b[0mv\u001b[0m\u001b[1;33m)\u001b[0m\u001b[1;33m\u001b[0m\u001b[1;33m\u001b[0m\u001b[0m\n\u001b[1;32m--> 106\u001b[1;33m         \u001b[0mres\u001b[0m \u001b[1;33m=\u001b[0m \u001b[0msuper\u001b[0m\u001b[1;33m(\u001b[0m\u001b[0mFunction\u001b[0m\u001b[1;33m,\u001b[0m \u001b[0mself\u001b[0m\u001b[1;33m)\u001b[0m\u001b[1;33m.\u001b[0m\u001b[0m__call__\u001b[0m\u001b[1;33m(\u001b[0m\u001b[1;33m*\u001b[0m\u001b[0mnew_args\u001b[0m\u001b[1;33m,\u001b[0m \u001b[1;33m**\u001b[0m\u001b[0mnew_kwargs\u001b[0m\u001b[1;33m)\u001b[0m\u001b[1;33m\u001b[0m\u001b[1;33m\u001b[0m\u001b[0m\n\u001b[0m\u001b[0;32m    107\u001b[0m         \u001b[0mres\u001b[0m \u001b[1;33m=\u001b[0m \u001b[0mconversion\u001b[0m\u001b[1;33m.\u001b[0m\u001b[0mri2ro\u001b[0m\u001b[1;33m(\u001b[0m\u001b[0mres\u001b[0m\u001b[1;33m)\u001b[0m\u001b[1;33m\u001b[0m\u001b[1;33m\u001b[0m\u001b[0m\n",
      "\u001b[1;31mRRuntimeError\u001b[0m: Error in .local(drv, ...) : \n  Cannot allocate a new connection: 16 connections already opened\n",
      "\nDuring handling of the above exception, another exception occurred:\n",
      "\u001b[1;31mRInterpreterError\u001b[0m                         Traceback (most recent call last)",
      "\u001b[1;32m~\\Anaconda3\\lib\\site-packages\\rpy2-2.9.4-py3.6-win-amd64.egg\\rpy2\\ipython\\rmagic.py\u001b[0m in \u001b[0;36mR\u001b[1;34m(self, line, cell, local_ns)\u001b[0m\n\u001b[0;32m    703\u001b[0m             \u001b[1;32melse\u001b[0m\u001b[1;33m:\u001b[0m\u001b[1;33m\u001b[0m\u001b[1;33m\u001b[0m\u001b[0m\n\u001b[1;32m--> 704\u001b[1;33m                 \u001b[0mtext_result\u001b[0m\u001b[1;33m,\u001b[0m \u001b[0mresult\u001b[0m\u001b[1;33m,\u001b[0m \u001b[0mvisible\u001b[0m \u001b[1;33m=\u001b[0m \u001b[0mself\u001b[0m\u001b[1;33m.\u001b[0m\u001b[0meval\u001b[0m\u001b[1;33m(\u001b[0m\u001b[0mcode\u001b[0m\u001b[1;33m)\u001b[0m\u001b[1;33m\u001b[0m\u001b[1;33m\u001b[0m\u001b[0m\n\u001b[0m\u001b[0;32m    705\u001b[0m                 \u001b[0mtext_output\u001b[0m \u001b[1;33m+=\u001b[0m \u001b[0mtext_result\u001b[0m\u001b[1;33m\u001b[0m\u001b[1;33m\u001b[0m\u001b[0m\n",
      "\u001b[1;32m~\\Anaconda3\\lib\\site-packages\\rpy2-2.9.4-py3.6-win-amd64.egg\\rpy2\\ipython\\rmagic.py\u001b[0m in \u001b[0;36meval\u001b[1;34m(self, code)\u001b[0m\n\u001b[0;32m    256\u001b[0m             \u001b[0mwarning_or_other_msg\u001b[0m \u001b[1;33m=\u001b[0m \u001b[0mself\u001b[0m\u001b[1;33m.\u001b[0m\u001b[0mflush\u001b[0m\u001b[1;33m(\u001b[0m\u001b[1;33m)\u001b[0m \u001b[1;31m# otherwise next return seems to have copy of error\u001b[0m\u001b[1;33m\u001b[0m\u001b[1;33m\u001b[0m\u001b[0m\n\u001b[1;32m--> 257\u001b[1;33m             \u001b[1;32mraise\u001b[0m \u001b[0mRInterpreterError\u001b[0m\u001b[1;33m(\u001b[0m\u001b[0mcode\u001b[0m\u001b[1;33m,\u001b[0m \u001b[0mstr\u001b[0m\u001b[1;33m(\u001b[0m\u001b[0mexception\u001b[0m\u001b[1;33m)\u001b[0m\u001b[1;33m,\u001b[0m \u001b[0mwarning_or_other_msg\u001b[0m\u001b[1;33m)\u001b[0m\u001b[1;33m\u001b[0m\u001b[1;33m\u001b[0m\u001b[0m\n\u001b[0m\u001b[0;32m    258\u001b[0m         \u001b[0mtext_output\u001b[0m \u001b[1;33m=\u001b[0m \u001b[0mself\u001b[0m\u001b[1;33m.\u001b[0m\u001b[0mflush\u001b[0m\u001b[1;33m(\u001b[0m\u001b[1;33m)\u001b[0m\u001b[1;33m\u001b[0m\u001b[1;33m\u001b[0m\u001b[0m\n",
      "\u001b[1;31mRInterpreterError\u001b[0m: Failed to parse and evaluate line '\\nlibrary(RMySQL)\\nlibrary(curl)\\n\\ndsn_database = \"tesis2\"\\ndsn_hostname = \"localhost\"\\ndsn_port = 3306\\ndsn_uid = \"root\"\\ndsn_pwd = \"\"\\n\\nconn = dbConnect(MySQL(), user=dsn_uid, password=dsn_pwd, dbname=dsn_database, host=dsn_hostname)\\nrs = dbSendQuery(conn, \"SELECT id_especie, especie FROM maestra_especies m WHERE especie iN (SELECT c1.especie FROM conteo_lncrna_especie c1 LEFT JOIN conteo_lncrna_especie c2 ON c1.especie = REPLACE(c2.especie, \\'_\\', \\' \\') AND c1.fuente = \\'Ensembl\\' AND c2.fuente = \\'CantataDB\\' LEFT JOIN conteo_lncrna_especie c3 ON c1.especie = REPLACE(c3.especie, \\'_\\', \\' \\') AND c1.fuente = \\'Ensembl\\' AND c3.fuente = \\'GreeNC\\' WHERE c1.fuente = \\'Ensembl\\' AND (c2.fuente IS NOT NULL OR c3.fuente IS NOT NULL)) AND NOT EXISTS (SELECT 1 FROM secuencias s WHERE s.id_especie = m.id_especie AND s.flg_pct = 1)\")\\nespecies = dbFetch(rs)\\ndbClearResult(rs)\\n\\nlibrary(biomaRt)\\nlibrary(stringr)\\nensembl_mart=useMart(\"plants_mart\", host=\"plants.ensembl.org\")\\nlista_datasets = listDatasets(ensembl_mart)\\n\\nh <- new_handle()\\nhandle_setopt(h, .list = list(timeout = 1));\\n\\nfor(i in 1:nrow(especies)) {\\n    la_especie = especies[i,2]\\n    especie = paste(\"^\", la_especie, sep=\"\")\\n    dataset = lista_datasets[which(str_detect(lista_datasets$description, especie)), 1]\\n    ensembl_mart = useDataset(dataset,mart=ensembl_mart)\\n    genes = getBM(attributes=c(\\'ensembl_transcript_id\\', \\'coding\\'), filters = \\'biotype\\', values = \\'protein_coding\\', mart = ensembl_mart, curl = h)\\n\\n    for(j in 1:nrow(genes)) {\\n        query = sprintf(\"INSERT INTO secuencias (id_especie, cod_secuencia, secuencia, flg_pct, flg_seleccionado) VALUES (%d, \\'%s\\', \\'%s\\', 1, NULL)\", especies[i,1], genes[j,1], genes[j,2])\\n        dbSendQuery(conn, query)\\n    }\\n}\\n\\ndbDisconnect(conn)\\n'.\nR error message: 'Error in .local(drv, ...) : \\n  Cannot allocate a new connection: 16 connections already opened'",
      "\nDuring handling of the above exception, another exception occurred:\n",
      "\u001b[1;31mPermissionError\u001b[0m                           Traceback (most recent call last)",
      "\u001b[1;32m<ipython-input-46-bd358bc95eff>\u001b[0m in \u001b[0;36m<module>\u001b[1;34m\u001b[0m\n\u001b[1;32m----> 1\u001b[1;33m \u001b[0mget_ipython\u001b[0m\u001b[1;33m(\u001b[0m\u001b[1;33m)\u001b[0m\u001b[1;33m.\u001b[0m\u001b[0mrun_cell_magic\u001b[0m\u001b[1;33m(\u001b[0m\u001b[1;34m'R'\u001b[0m\u001b[1;33m,\u001b[0m \u001b[1;34m''\u001b[0m\u001b[1;33m,\u001b[0m \u001b[1;34m'\\nlibrary(RMySQL)\\nlibrary(curl)\\n\\ndsn_database = \"tesis2\"\\ndsn_hostname = \"localhost\"\\ndsn_port = 3306\\ndsn_uid = \"root\"\\ndsn_pwd = \"\"\\n\\nconn = dbConnect(MySQL(), user=dsn_uid, password=dsn_pwd, dbname=dsn_database, host=dsn_hostname)\\nrs = dbSendQuery(conn, \"SELECT id_especie, especie FROM maestra_especies m WHERE especie iN (SELECT c1.especie FROM conteo_lncrna_especie c1 LEFT JOIN conteo_lncrna_especie c2 ON c1.especie = REPLACE(c2.especie, \\'_\\', \\' \\') AND c1.fuente = \\'Ensembl\\' AND c2.fuente = \\'CantataDB\\' LEFT JOIN conteo_lncrna_especie c3 ON c1.especie = REPLACE(c3.especie, \\'_\\', \\' \\') AND c1.fuente = \\'Ensembl\\' AND c3.fuente = \\'GreeNC\\' WHERE c1.fuente = \\'Ensembl\\' AND (c2.fuente IS NOT NULL OR c3.fuente IS NOT NULL)) AND NOT EXISTS (SELECT 1 FROM secuencias s WHERE s.id_especie = m.id_especie AND s.flg_pct = 1)\")\\nespecies = dbFetch(rs)\\ndbClearResult(rs)\\n\\nlibrary(biomaRt)\\nlibrary(stringr)\\nensembl_mart=useMart(\"plants_mart\", host=\"plants.ensembl.org\")\\nlista_datasets = listDatasets(ensembl_mart)\\n\\nh <- new_handle()\\nhandle_setopt(h, .list = list(timeout = 1));\\n\\nfor(i in 1:nrow(especies)) {\\n    la_especie = especies[i,2]\\n    especie = paste(\"^\", la_especie, sep=\"\")\\n    dataset = lista_datasets[which(str_detect(lista_datasets$description, especie)), 1]\\n    ensembl_mart = useDataset(dataset,mart=ensembl_mart)\\n    genes = getBM(attributes=c(\\'ensembl_transcript_id\\', \\'coding\\'), filters = \\'biotype\\', values = \\'protein_coding\\', mart = ensembl_mart, curl = h)\\n\\n    for(j in 1:nrow(genes)) {\\n        query = sprintf(\"INSERT INTO secuencias (id_especie, cod_secuencia, secuencia, flg_pct, flg_seleccionado) VALUES (%d, \\'%s\\', \\'%s\\', 1, NULL)\", especies[i,1], genes[j,1], genes[j,2])\\n        dbSendQuery(conn, query)\\n    }\\n}\\n\\ndbDisconnect(conn)\\n'\u001b[0m\u001b[1;33m)\u001b[0m\u001b[1;33m\u001b[0m\u001b[1;33m\u001b[0m\u001b[0m\n\u001b[0m",
      "\u001b[1;32m~\\Anaconda3\\lib\\site-packages\\IPython\\core\\interactiveshell.py\u001b[0m in \u001b[0;36mrun_cell_magic\u001b[1;34m(self, magic_name, line, cell)\u001b[0m\n\u001b[0;32m   2345\u001b[0m                 \u001b[0mmagic_arg_s\u001b[0m \u001b[1;33m=\u001b[0m \u001b[0mself\u001b[0m\u001b[1;33m.\u001b[0m\u001b[0mvar_expand\u001b[0m\u001b[1;33m(\u001b[0m\u001b[0mline\u001b[0m\u001b[1;33m,\u001b[0m \u001b[0mstack_depth\u001b[0m\u001b[1;33m)\u001b[0m\u001b[1;33m\u001b[0m\u001b[1;33m\u001b[0m\u001b[0m\n\u001b[0;32m   2346\u001b[0m             \u001b[1;32mwith\u001b[0m \u001b[0mself\u001b[0m\u001b[1;33m.\u001b[0m\u001b[0mbuiltin_trap\u001b[0m\u001b[1;33m:\u001b[0m\u001b[1;33m\u001b[0m\u001b[1;33m\u001b[0m\u001b[0m\n\u001b[1;32m-> 2347\u001b[1;33m                 \u001b[0mresult\u001b[0m \u001b[1;33m=\u001b[0m \u001b[0mfn\u001b[0m\u001b[1;33m(\u001b[0m\u001b[0mmagic_arg_s\u001b[0m\u001b[1;33m,\u001b[0m \u001b[0mcell\u001b[0m\u001b[1;33m)\u001b[0m\u001b[1;33m\u001b[0m\u001b[1;33m\u001b[0m\u001b[0m\n\u001b[0m\u001b[0;32m   2348\u001b[0m             \u001b[1;32mreturn\u001b[0m \u001b[0mresult\u001b[0m\u001b[1;33m\u001b[0m\u001b[1;33m\u001b[0m\u001b[0m\n\u001b[0;32m   2349\u001b[0m \u001b[1;33m\u001b[0m\u001b[0m\n",
      "\u001b[1;32m<C:\\Users\\JoseLuis\\Anaconda3\\lib\\site-packages\\decorator.py:decorator-gen-131>\u001b[0m in \u001b[0;36mR\u001b[1;34m(self, line, cell, local_ns)\u001b[0m\n",
      "\u001b[1;32m~\\Anaconda3\\lib\\site-packages\\IPython\\core\\magic.py\u001b[0m in \u001b[0;36m<lambda>\u001b[1;34m(f, *a, **k)\u001b[0m\n\u001b[0;32m    185\u001b[0m     \u001b[1;31m# but it's overkill for just that one bit of state.\u001b[0m\u001b[1;33m\u001b[0m\u001b[1;33m\u001b[0m\u001b[1;33m\u001b[0m\u001b[0m\n\u001b[0;32m    186\u001b[0m     \u001b[1;32mdef\u001b[0m \u001b[0mmagic_deco\u001b[0m\u001b[1;33m(\u001b[0m\u001b[0marg\u001b[0m\u001b[1;33m)\u001b[0m\u001b[1;33m:\u001b[0m\u001b[1;33m\u001b[0m\u001b[1;33m\u001b[0m\u001b[0m\n\u001b[1;32m--> 187\u001b[1;33m         \u001b[0mcall\u001b[0m \u001b[1;33m=\u001b[0m \u001b[1;32mlambda\u001b[0m \u001b[0mf\u001b[0m\u001b[1;33m,\u001b[0m \u001b[1;33m*\u001b[0m\u001b[0ma\u001b[0m\u001b[1;33m,\u001b[0m \u001b[1;33m**\u001b[0m\u001b[0mk\u001b[0m\u001b[1;33m:\u001b[0m \u001b[0mf\u001b[0m\u001b[1;33m(\u001b[0m\u001b[1;33m*\u001b[0m\u001b[0ma\u001b[0m\u001b[1;33m,\u001b[0m \u001b[1;33m**\u001b[0m\u001b[0mk\u001b[0m\u001b[1;33m)\u001b[0m\u001b[1;33m\u001b[0m\u001b[1;33m\u001b[0m\u001b[0m\n\u001b[0m\u001b[0;32m    188\u001b[0m \u001b[1;33m\u001b[0m\u001b[0m\n\u001b[0;32m    189\u001b[0m         \u001b[1;32mif\u001b[0m \u001b[0mcallable\u001b[0m\u001b[1;33m(\u001b[0m\u001b[0marg\u001b[0m\u001b[1;33m)\u001b[0m\u001b[1;33m:\u001b[0m\u001b[1;33m\u001b[0m\u001b[1;33m\u001b[0m\u001b[0m\n",
      "\u001b[1;32m~\\Anaconda3\\lib\\site-packages\\rpy2-2.9.4-py3.6-win-amd64.egg\\rpy2\\ipython\\rmagic.py\u001b[0m in \u001b[0;36mR\u001b[1;34m(self, line, cell, local_ns)\u001b[0m\n\u001b[0;32m    717\u001b[0m                 \u001b[0mprint\u001b[0m\u001b[1;33m(\u001b[0m\u001b[0me\u001b[0m\u001b[1;33m.\u001b[0m\u001b[0merr\u001b[0m\u001b[1;33m)\u001b[0m\u001b[1;33m\u001b[0m\u001b[1;33m\u001b[0m\u001b[0m\n\u001b[0;32m    718\u001b[0m             \u001b[1;32mif\u001b[0m \u001b[0mtmpd\u001b[0m\u001b[1;33m:\u001b[0m\u001b[1;33m\u001b[0m\u001b[1;33m\u001b[0m\u001b[0m\n\u001b[1;32m--> 719\u001b[1;33m                 \u001b[0mrmtree\u001b[0m\u001b[1;33m(\u001b[0m\u001b[0mtmpd\u001b[0m\u001b[1;33m)\u001b[0m\u001b[1;33m\u001b[0m\u001b[1;33m\u001b[0m\u001b[0m\n\u001b[0m\u001b[0;32m    720\u001b[0m             \u001b[1;32mreturn\u001b[0m\u001b[1;33m\u001b[0m\u001b[1;33m\u001b[0m\u001b[0m\n\u001b[0;32m    721\u001b[0m         \u001b[1;32mfinally\u001b[0m\u001b[1;33m:\u001b[0m\u001b[1;33m\u001b[0m\u001b[1;33m\u001b[0m\u001b[0m\n",
      "\u001b[1;32m~\\Anaconda3\\lib\\shutil.py\u001b[0m in \u001b[0;36mrmtree\u001b[1;34m(path, ignore_errors, onerror)\u001b[0m\n\u001b[0;32m    492\u001b[0m             \u001b[0mos\u001b[0m\u001b[1;33m.\u001b[0m\u001b[0mclose\u001b[0m\u001b[1;33m(\u001b[0m\u001b[0mfd\u001b[0m\u001b[1;33m)\u001b[0m\u001b[1;33m\u001b[0m\u001b[1;33m\u001b[0m\u001b[0m\n\u001b[0;32m    493\u001b[0m     \u001b[1;32melse\u001b[0m\u001b[1;33m:\u001b[0m\u001b[1;33m\u001b[0m\u001b[1;33m\u001b[0m\u001b[0m\n\u001b[1;32m--> 494\u001b[1;33m         \u001b[1;32mreturn\u001b[0m \u001b[0m_rmtree_unsafe\u001b[0m\u001b[1;33m(\u001b[0m\u001b[0mpath\u001b[0m\u001b[1;33m,\u001b[0m \u001b[0monerror\u001b[0m\u001b[1;33m)\u001b[0m\u001b[1;33m\u001b[0m\u001b[1;33m\u001b[0m\u001b[0m\n\u001b[0m\u001b[0;32m    495\u001b[0m \u001b[1;33m\u001b[0m\u001b[0m\n\u001b[0;32m    496\u001b[0m \u001b[1;31m# Allow introspection of whether or not the hardening against symlink\u001b[0m\u001b[1;33m\u001b[0m\u001b[1;33m\u001b[0m\u001b[1;33m\u001b[0m\u001b[0m\n",
      "\u001b[1;32m~\\Anaconda3\\lib\\shutil.py\u001b[0m in \u001b[0;36m_rmtree_unsafe\u001b[1;34m(path, onerror)\u001b[0m\n\u001b[0;32m    387\u001b[0m                 \u001b[0mos\u001b[0m\u001b[1;33m.\u001b[0m\u001b[0munlink\u001b[0m\u001b[1;33m(\u001b[0m\u001b[0mfullname\u001b[0m\u001b[1;33m)\u001b[0m\u001b[1;33m\u001b[0m\u001b[1;33m\u001b[0m\u001b[0m\n\u001b[0;32m    388\u001b[0m             \u001b[1;32mexcept\u001b[0m \u001b[0mOSError\u001b[0m\u001b[1;33m:\u001b[0m\u001b[1;33m\u001b[0m\u001b[1;33m\u001b[0m\u001b[0m\n\u001b[1;32m--> 389\u001b[1;33m                 \u001b[0monerror\u001b[0m\u001b[1;33m(\u001b[0m\u001b[0mos\u001b[0m\u001b[1;33m.\u001b[0m\u001b[0munlink\u001b[0m\u001b[1;33m,\u001b[0m \u001b[0mfullname\u001b[0m\u001b[1;33m,\u001b[0m \u001b[0msys\u001b[0m\u001b[1;33m.\u001b[0m\u001b[0mexc_info\u001b[0m\u001b[1;33m(\u001b[0m\u001b[1;33m)\u001b[0m\u001b[1;33m)\u001b[0m\u001b[1;33m\u001b[0m\u001b[1;33m\u001b[0m\u001b[0m\n\u001b[0m\u001b[0;32m    390\u001b[0m     \u001b[1;32mtry\u001b[0m\u001b[1;33m:\u001b[0m\u001b[1;33m\u001b[0m\u001b[1;33m\u001b[0m\u001b[0m\n\u001b[0;32m    391\u001b[0m         \u001b[0mos\u001b[0m\u001b[1;33m.\u001b[0m\u001b[0mrmdir\u001b[0m\u001b[1;33m(\u001b[0m\u001b[0mpath\u001b[0m\u001b[1;33m)\u001b[0m\u001b[1;33m\u001b[0m\u001b[1;33m\u001b[0m\u001b[0m\n",
      "\u001b[1;32m~\\Anaconda3\\lib\\shutil.py\u001b[0m in \u001b[0;36m_rmtree_unsafe\u001b[1;34m(path, onerror)\u001b[0m\n\u001b[0;32m    385\u001b[0m         \u001b[1;32melse\u001b[0m\u001b[1;33m:\u001b[0m\u001b[1;33m\u001b[0m\u001b[1;33m\u001b[0m\u001b[0m\n\u001b[0;32m    386\u001b[0m             \u001b[1;32mtry\u001b[0m\u001b[1;33m:\u001b[0m\u001b[1;33m\u001b[0m\u001b[1;33m\u001b[0m\u001b[0m\n\u001b[1;32m--> 387\u001b[1;33m                 \u001b[0mos\u001b[0m\u001b[1;33m.\u001b[0m\u001b[0munlink\u001b[0m\u001b[1;33m(\u001b[0m\u001b[0mfullname\u001b[0m\u001b[1;33m)\u001b[0m\u001b[1;33m\u001b[0m\u001b[1;33m\u001b[0m\u001b[0m\n\u001b[0m\u001b[0;32m    388\u001b[0m             \u001b[1;32mexcept\u001b[0m \u001b[0mOSError\u001b[0m\u001b[1;33m:\u001b[0m\u001b[1;33m\u001b[0m\u001b[1;33m\u001b[0m\u001b[0m\n\u001b[0;32m    389\u001b[0m                 \u001b[0monerror\u001b[0m\u001b[1;33m(\u001b[0m\u001b[0mos\u001b[0m\u001b[1;33m.\u001b[0m\u001b[0munlink\u001b[0m\u001b[1;33m,\u001b[0m \u001b[0mfullname\u001b[0m\u001b[1;33m,\u001b[0m \u001b[0msys\u001b[0m\u001b[1;33m.\u001b[0m\u001b[0mexc_info\u001b[0m\u001b[1;33m(\u001b[0m\u001b[1;33m)\u001b[0m\u001b[1;33m)\u001b[0m\u001b[1;33m\u001b[0m\u001b[1;33m\u001b[0m\u001b[0m\n",
      "\u001b[1;31mPermissionError\u001b[0m: [WinError 32] El proceso no tiene acceso al archivo porque está siendo utilizado por otro proceso: 'C:\\\\Users\\\\JoseLuis\\\\AppData\\\\Local\\\\Temp\\\\tmpj5_sehz1\\\\Rplots001.png'"
     ]
    }
   ],
   "source": [
    "%%R\n",
    "\n",
    "library(RMySQL)\n",
    "library(curl)\n",
    "\n",
    "dsn_database = \"tesis2\"\n",
    "dsn_hostname = \"localhost\"\n",
    "dsn_port = 3306\n",
    "dsn_uid = \"root\"\n",
    "dsn_pwd = \"\"\n",
    "\n",
    "conn = dbConnect(MySQL(), user=dsn_uid, password=dsn_pwd, dbname=dsn_database, host=dsn_hostname)\n",
    "rs = dbSendQuery(conn, \"SELECT id_especie, especie FROM maestra_especies m WHERE especie iN (SELECT c1.especie FROM conteo_lncrna_especie c1 LEFT JOIN conteo_lncrna_especie c2 ON c1.especie = REPLACE(c2.especie, '_', ' ') AND c1.fuente = 'Ensembl' AND c2.fuente = 'CantataDB' LEFT JOIN conteo_lncrna_especie c3 ON c1.especie = REPLACE(c3.especie, '_', ' ') AND c1.fuente = 'Ensembl' AND c3.fuente = 'GreeNC' WHERE c1.fuente = 'Ensembl' AND (c2.fuente IS NOT NULL OR c3.fuente IS NOT NULL)) AND NOT EXISTS (SELECT 1 FROM secuencias s WHERE s.id_especie = m.id_especie AND s.flg_pct = 1)\")\n",
    "especies = dbFetch(rs)\n",
    "dbClearResult(rs)\n",
    "\n",
    "library(biomaRt)\n",
    "library(stringr)\n",
    "ensembl_mart=useMart(\"plants_mart\", host=\"plants.ensembl.org\")\n",
    "lista_datasets = listDatasets(ensembl_mart)\n",
    "\n",
    "h <- new_handle()\n",
    "handle_setopt(h, .list = list(timeout = 1));\n",
    "\n",
    "for(i in 1:nrow(especies)) {\n",
    "    la_especie = especies[i,2]\n",
    "    especie = paste(\"^\", la_especie, sep=\"\")\n",
    "    dataset = lista_datasets[which(str_detect(lista_datasets$description, especie)), 1]\n",
    "    ensembl_mart = useDataset(dataset,mart=ensembl_mart)\n",
    "    genes = getBM(attributes=c('ensembl_transcript_id', 'coding'), filters = 'biotype', values = 'protein_coding', mart = ensembl_mart, curl = h)\n",
    "\n",
    "    for(j in 1:nrow(genes)) {\n",
    "        query = sprintf(\"INSERT INTO secuencias (id_especie, cod_secuencia, secuencia, flg_pct, flg_seleccionado) VALUES (%d, '%s', '%s', 1, NULL)\", especies[i,1], genes[j,1], genes[j,2])\n",
    "        dbSendQuery(conn, query)\n",
    "    }\n",
    "}\n",
    "\n",
    "dbDisconnect(conn)"
   ]
  },
  {
   "cell_type": "markdown",
   "metadata": {},
   "source": [
    "Ahora insertaremos las secuencias de CantataDB."
   ]
  },
  {
   "cell_type": "code",
   "execution_count": 33,
   "metadata": {},
   "outputs": [],
   "source": [
    "import mysql.connector\n",
    "import os\n",
    "\n",
    "#método para leer los transcriptomas de un archivo fasta en cantatadb\n",
    "def leer_transcriptomas_cantatadb(archivo, cur, id_especie):\n",
    "    cabecera = \"\"\n",
    "    transcriptoma = \"\"\n",
    "    f = open(archivo, \"r\")\n",
    "    for linea in f:\n",
    "        if linea.startswith(\">\"):\n",
    "            if transcriptoma != \"\":\n",
    "                query = \"INSERT INTO secuencias (id_especie, cod_secuencia, secuencia, flg_pct, flg_seleccionado) VALUES (%s, %s, %s, 0, NULL)\"\n",
    "                cur.execute(query, (id_especie, cabecera, transcriptoma))\n",
    "                transcriptoma = \"\"\n",
    "            cabecera = linea.rstrip(\"\\n\")\n",
    "        else:\n",
    "            transcriptoma += linea.rstrip(\"\\n\")\n",
    "    if transcriptoma != \"\":\n",
    "        transcriptoma = \"\"\n",
    "\n",
    "conn = mysql.connector.connect(\n",
    "   host=\"localhost\",\n",
    "   database=\"tesis2\",\n",
    "   user=\"root\",\n",
    "   passwd=\"\"\n",
    ")\n",
    "\n",
    "cur = conn.cursor()\n",
    "\n",
    "directory = '..\\\\Semana 02\\\\httpcantata.amu.edu.pldownload.php\\\\Otros'\n",
    "\n",
    "for filename in os.listdir(directory):\n",
    "    if filename.endswith(\".fasta\"):\n",
    "        especie = os.path.splitext(filename)[0].split(\"_lncrnas\")[:-1][0]\n",
    "        query = \"SELECT COUNT(*) FROM maestra_especies m WHERE especie iN (SELECT c1.especie FROM conteo_lncrna_especie c1 LEFT JOIN conteo_lncrna_especie c2 ON c1.especie = REPLACE(c2.especie, '_', ' ') AND c1.fuente = 'Ensembl' AND c2.fuente = 'CantataDB' LEFT JOIN conteo_lncrna_especie c3 ON c1.especie = REPLACE(c3.especie, '_', ' ') AND c1.fuente = 'Ensembl' AND c3.fuente = 'GreeNC' WHERE c1.fuente = 'Ensembl' AND (c2.fuente IS NOT NULL OR c3.fuente IS NOT NULL)) AND NOT EXISTS (SELECT 1 FROM secuencias s WHERE s.id_especie = m.id_especie AND s.flg_pct = 0) AND m.especie = REPLACE(%s, '_', ' ') AND EXISTS (SELECT 1 FROM especies_seleccionadas es WHERE es.especie = m.especie AND fuente = %s)\"\n",
    "        cur.execute(query, (especie, \"CantataDB\"))\n",
    "        result=cur.fetchone()\n",
    "        if result[0] > 0:\n",
    "            query = \"SELECT e.id_especie FROM maestra_especies e WHERE e.especie = REPLACE(%s, '_', ' ')\"\n",
    "            cur.execute(query, [especie])\n",
    "            id_especie=cur.fetchone()\n",
    "            leer_transcriptomas_cantatadb(directory + \"\\\\\" + filename, cur, id_especie[0])\n",
    "            conn.commit()\n",
    "\n",
    "conn.close()"
   ]
  },
  {
   "cell_type": "markdown",
   "metadata": {},
   "source": [
    "De forma similar, procedemos para GreeNC. Se puede reutilizar el método para leer transcriptomas de CantataDB."
   ]
  },
  {
   "cell_type": "code",
   "execution_count": 36,
   "metadata": {},
   "outputs": [],
   "source": [
    "import mysql.connector\n",
    "import os\n",
    "\n",
    "#método para leer los transcriptomas de un archivo fasta en cantatadb\n",
    "def leer_transcriptomas_cantatadb(archivo, cur, id_especie):\n",
    "    cabecera = \"\"\n",
    "    transcriptoma = \"\"\n",
    "    f = open(archivo, \"r\")\n",
    "    for linea in f:\n",
    "        if linea.startswith(\">\"):\n",
    "            if transcriptoma != \"\":\n",
    "                query = \"INSERT INTO secuencias (id_especie, cod_secuencia, secuencia, flg_pct, flg_seleccionado) VALUES (%s, %s, %s, 0, NULL)\"\n",
    "                cur.execute(query, (id_especie, cabecera, transcriptoma))\n",
    "                transcriptoma = \"\"\n",
    "            cabecera = linea.rstrip(\"\\n\")\n",
    "        else:\n",
    "            transcriptoma += linea.rstrip(\"\\n\")\n",
    "    if transcriptoma != \"\":\n",
    "        transcriptoma = \"\"\n",
    "\n",
    "conn = mysql.connector.connect(\n",
    "   host=\"localhost\",\n",
    "   database=\"tesis2\",\n",
    "   user=\"root\",\n",
    "   passwd=\"\"\n",
    ")\n",
    "\n",
    "cur = conn.cursor()\n",
    "\n",
    "directory = '.\\\\httpgreenc.sciencedesigners.com'\n",
    "\n",
    "for filename in os.listdir(directory):\n",
    "    if filename.endswith(\".fasta\"):\n",
    "        especie = os.path.splitext(filename)[0]\n",
    "        query = \"SELECT COUNT(*) FROM maestra_especies m WHERE especie iN (SELECT c1.especie FROM conteo_lncrna_especie c1 LEFT JOIN conteo_lncrna_especie c2 ON c1.especie = REPLACE(c2.especie, '_', ' ') AND c1.fuente = 'Ensembl' AND c2.fuente = 'CantataDB' LEFT JOIN conteo_lncrna_especie c3 ON c1.especie = REPLACE(c3.especie, '_', ' ') AND c1.fuente = 'Ensembl' AND c3.fuente = 'GreeNC' WHERE c1.fuente = 'Ensembl' AND (c2.fuente IS NOT NULL OR c3.fuente IS NOT NULL)) AND NOT EXISTS (SELECT 1 FROM secuencias s WHERE s.id_especie = m.id_especie AND s.flg_pct = 0) AND m.especie = REPLACE(%s, '_', ' ') AND EXISTS (SELECT 1 FROM especies_seleccionadas es WHERE es.especie = m.especie AND fuente = %s)\"\n",
    "        cur.execute(query, (especie, \"GreeNC\"))\n",
    "        result=cur.fetchone()\n",
    "        if result[0] == 0:\n",
    "            query = \"SELECT id_especie FROM maestra_especies WHERE especie = REPLACE(%s, '_', ' ')\"\n",
    "            cur.execute(query, [especie])\n",
    "            id_especie=cur.fetchone()\n",
    "            leer_transcriptomas_cantatadb(directory + \"\\\\\" + filename, cur, id_especie[0])\n",
    "            conn.commit()\n",
    "\n",
    "conn.close()"
   ]
  },
  {
   "cell_type": "markdown",
   "metadata": {},
   "source": [
    "Conteo final."
   ]
  },
  {
   "cell_type": "code",
   "execution_count": null,
   "metadata": {},
   "outputs": [],
   "source": [
    "import mysql.connector\n",
    "import pandas as pd\n",
    "\n",
    "conn = mysql.connector.connect(\n",
    "   host=\"localhost\",\n",
    "   database=\"tesis2\",\n",
    "   user=\"root\",\n",
    "   passwd=\"\"\n",
    ")\n",
    "df = pd.read_sql_query(\"SELECT s.id_especie, COUNT(*) FROM secuencias s JOIN maestra_especies m ON s.id_especie = m.id_especie GROUP BY id_especie ORDER BY 2 DESC\", conn)\n",
    "display(df)\n",
    "\n",
    "conn.close()"
   ]
  }
 ],
 "metadata": {
  "kernelspec": {
   "display_name": "Python 3",
   "language": "python",
   "name": "python3"
  },
  "language_info": {
   "codemirror_mode": {
    "name": "ipython",
    "version": 3
   },
   "file_extension": ".py",
   "mimetype": "text/x-python",
   "name": "python",
   "nbconvert_exporter": "python",
   "pygments_lexer": "ipython3",
   "version": "3.6.7"
  }
 },
 "nbformat": 4,
 "nbformat_minor": 2
}
